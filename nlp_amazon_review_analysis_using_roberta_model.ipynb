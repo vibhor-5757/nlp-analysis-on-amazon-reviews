{
  "nbformat": 4,
  "nbformat_minor": 0,
  "metadata": {
    "colab": {
      "provenance": [],
      "collapsed_sections": [
        "oF2vZf95grkf",
        "DH_VjgPzC2cd",
        "5gn8e7fX5l7n",
        "gw15OuFWsKTF",
        "hJFTSHyWR9Gb",
        "dTZJxaT_XUMs",
        "w26LLMVihxLa",
        "_05U5kwwMHT3",
        "akG051g_-X0u",
        "0swRpGrWMzeS",
        "eECwPU-0ZRx-",
        "WV1nH3Pqmgx5",
        "SKlRtowgNh1m",
        "Y6FemTHtelLO",
        "gYAaYccdvh1L",
        "ZIaYa3UrPF_y",
        "RB7fTKJEPF_z",
        "SuM8GdVAPF_0",
        "ao7ovEKRPF_1",
        "QbiHVO0lPF_2"
      ]
    },
    "kernelspec": {
      "name": "python3",
      "display_name": "Python 3"
    }
  },
  "cells": [
    {
      "cell_type": "code",
      "execution_count": 1,
      "metadata": {
        "colab": {
          "base_uri": "https://localhost:8080/"
        },
        "id": "HEP14r8SgPUw",
        "outputId": "325ec97b-38f3-475f-d852-4431d069cdff"
      },
      "outputs": [
        {
          "output_type": "stream",
          "name": "stdout",
          "text": [
            "Mounted at /content/drive\n"
          ]
        }
      ],
      "source": [
        "from google.colab import drive\n",
        "drive.mount('/content/drive')"
      ]
    },
    {
      "cell_type": "code",
      "execution_count": 2,
      "metadata": {
        "id": "_EwcmZqRIpUV"
      },
      "outputs": [],
      "source": [
        "import pandas as pd\n",
        "import matplotlib.pyplot as plt\n",
        "import seaborn as sns\n",
        "import numpy as np\n",
        "from sklearn.preprocessing import StandardScaler, OneHotEncoder\n"
      ]
    },
    {
      "cell_type": "markdown",
      "metadata": {
        "id": "L88GjXQ7I6z4"
      },
      "source": [
        "# load dataset"
      ]
    },
    {
      "cell_type": "code",
      "execution_count": 17,
      "metadata": {
        "id": "PcU6DZkrJCWR"
      },
      "outputs": [],
      "source": [
        "datapath = '/content/drive/MyDrive/ml_code/nlp/amazon review analysis/Reviews.csv'\n",
        "df = pd.read_csv(datapath)"
      ]
    },
    {
      "cell_type": "markdown",
      "metadata": {
        "id": "oII9BW_iNDU-"
      },
      "source": [
        "# **understanding data**"
      ]
    },
    {
      "cell_type": "code",
      "execution_count": 18,
      "metadata": {
        "id": "U8ftCFQlJokw",
        "colab": {
          "base_uri": "https://localhost:8080/",
          "height": 0
        },
        "outputId": "36bd7a5d-57df-4d4f-ed09-d85e806cb67c"
      },
      "outputs": [
        {
          "output_type": "execute_result",
          "data": {
            "text/plain": [
              "   Id   ProductId          UserId                      ProfileName  \\\n",
              "0   1  B001E4KFG0  A3SGXH7AUHU8GW                       delmartian   \n",
              "1   2  B00813GRG4  A1D87F6ZCVE5NK                           dll pa   \n",
              "2   3  B000LQOCH0   ABXLMWJIXXAIN  Natalia Corres \"Natalia Corres\"   \n",
              "3   4  B000UA0QIQ  A395BORC6FGVXV                             Karl   \n",
              "4   5  B006K2ZZ7K  A1UQRSCLF8GW1T    Michael D. Bigham \"M. Wassir\"   \n",
              "5   6  B006K2ZZ7K   ADT0SRK1MGOEU                   Twoapennything   \n",
              "6   7  B006K2ZZ7K  A1SP2KVKFXXRU1                David C. Sullivan   \n",
              "7   8  B006K2ZZ7K  A3JRGQVEQN31IQ               Pamela G. Williams   \n",
              "8   9  B000E7L2R4  A1MZYO9TZK0BBI                         R. James   \n",
              "9  10  B00171APVA  A21BT40VZCCYT4                    Carol A. Reed   \n",
              "\n",
              "   HelpfulnessNumerator  HelpfulnessDenominator  Score        Time  \\\n",
              "0                     1                       1      5  1303862400   \n",
              "1                     0                       0      1  1346976000   \n",
              "2                     1                       1      4  1219017600   \n",
              "3                     3                       3      2  1307923200   \n",
              "4                     0                       0      5  1350777600   \n",
              "5                     0                       0      4  1342051200   \n",
              "6                     0                       0      5  1340150400   \n",
              "7                     0                       0      5  1336003200   \n",
              "8                     1                       1      5  1322006400   \n",
              "9                     0                       0      5  1351209600   \n",
              "\n",
              "                                         Summary  \\\n",
              "0                          Good Quality Dog Food   \n",
              "1                              Not as Advertised   \n",
              "2                          \"Delight\" says it all   \n",
              "3                                 Cough Medicine   \n",
              "4                                    Great taffy   \n",
              "5                                     Nice Taffy   \n",
              "6  Great!  Just as good as the expensive brands!   \n",
              "7                         Wonderful, tasty taffy   \n",
              "8                                     Yay Barley   \n",
              "9                               Healthy Dog Food   \n",
              "\n",
              "                                                Text  \n",
              "0  I have bought several of the Vitality canned d...  \n",
              "1  Product arrived labeled as Jumbo Salted Peanut...  \n",
              "2  This is a confection that has been around a fe...  \n",
              "3  If you are looking for the secret ingredient i...  \n",
              "4  Great taffy at a great price.  There was a wid...  \n",
              "5  I got a wild hair for taffy and ordered this f...  \n",
              "6  This saltwater taffy had great flavors and was...  \n",
              "7  This taffy is so good.  It is very soft and ch...  \n",
              "8  Right now I'm mostly just sprouting this so my...  \n",
              "9  This is a very healthy dog food. Good for thei...  "
            ],
            "text/html": [
              "\n",
              "  <div id=\"df-7affca0e-9f19-43d2-a92c-5592227af84a\" class=\"colab-df-container\">\n",
              "    <div>\n",
              "<style scoped>\n",
              "    .dataframe tbody tr th:only-of-type {\n",
              "        vertical-align: middle;\n",
              "    }\n",
              "\n",
              "    .dataframe tbody tr th {\n",
              "        vertical-align: top;\n",
              "    }\n",
              "\n",
              "    .dataframe thead th {\n",
              "        text-align: right;\n",
              "    }\n",
              "</style>\n",
              "<table border=\"1\" class=\"dataframe\">\n",
              "  <thead>\n",
              "    <tr style=\"text-align: right;\">\n",
              "      <th></th>\n",
              "      <th>Id</th>\n",
              "      <th>ProductId</th>\n",
              "      <th>UserId</th>\n",
              "      <th>ProfileName</th>\n",
              "      <th>HelpfulnessNumerator</th>\n",
              "      <th>HelpfulnessDenominator</th>\n",
              "      <th>Score</th>\n",
              "      <th>Time</th>\n",
              "      <th>Summary</th>\n",
              "      <th>Text</th>\n",
              "    </tr>\n",
              "  </thead>\n",
              "  <tbody>\n",
              "    <tr>\n",
              "      <th>0</th>\n",
              "      <td>1</td>\n",
              "      <td>B001E4KFG0</td>\n",
              "      <td>A3SGXH7AUHU8GW</td>\n",
              "      <td>delmartian</td>\n",
              "      <td>1</td>\n",
              "      <td>1</td>\n",
              "      <td>5</td>\n",
              "      <td>1303862400</td>\n",
              "      <td>Good Quality Dog Food</td>\n",
              "      <td>I have bought several of the Vitality canned d...</td>\n",
              "    </tr>\n",
              "    <tr>\n",
              "      <th>1</th>\n",
              "      <td>2</td>\n",
              "      <td>B00813GRG4</td>\n",
              "      <td>A1D87F6ZCVE5NK</td>\n",
              "      <td>dll pa</td>\n",
              "      <td>0</td>\n",
              "      <td>0</td>\n",
              "      <td>1</td>\n",
              "      <td>1346976000</td>\n",
              "      <td>Not as Advertised</td>\n",
              "      <td>Product arrived labeled as Jumbo Salted Peanut...</td>\n",
              "    </tr>\n",
              "    <tr>\n",
              "      <th>2</th>\n",
              "      <td>3</td>\n",
              "      <td>B000LQOCH0</td>\n",
              "      <td>ABXLMWJIXXAIN</td>\n",
              "      <td>Natalia Corres \"Natalia Corres\"</td>\n",
              "      <td>1</td>\n",
              "      <td>1</td>\n",
              "      <td>4</td>\n",
              "      <td>1219017600</td>\n",
              "      <td>\"Delight\" says it all</td>\n",
              "      <td>This is a confection that has been around a fe...</td>\n",
              "    </tr>\n",
              "    <tr>\n",
              "      <th>3</th>\n",
              "      <td>4</td>\n",
              "      <td>B000UA0QIQ</td>\n",
              "      <td>A395BORC6FGVXV</td>\n",
              "      <td>Karl</td>\n",
              "      <td>3</td>\n",
              "      <td>3</td>\n",
              "      <td>2</td>\n",
              "      <td>1307923200</td>\n",
              "      <td>Cough Medicine</td>\n",
              "      <td>If you are looking for the secret ingredient i...</td>\n",
              "    </tr>\n",
              "    <tr>\n",
              "      <th>4</th>\n",
              "      <td>5</td>\n",
              "      <td>B006K2ZZ7K</td>\n",
              "      <td>A1UQRSCLF8GW1T</td>\n",
              "      <td>Michael D. Bigham \"M. Wassir\"</td>\n",
              "      <td>0</td>\n",
              "      <td>0</td>\n",
              "      <td>5</td>\n",
              "      <td>1350777600</td>\n",
              "      <td>Great taffy</td>\n",
              "      <td>Great taffy at a great price.  There was a wid...</td>\n",
              "    </tr>\n",
              "    <tr>\n",
              "      <th>5</th>\n",
              "      <td>6</td>\n",
              "      <td>B006K2ZZ7K</td>\n",
              "      <td>ADT0SRK1MGOEU</td>\n",
              "      <td>Twoapennything</td>\n",
              "      <td>0</td>\n",
              "      <td>0</td>\n",
              "      <td>4</td>\n",
              "      <td>1342051200</td>\n",
              "      <td>Nice Taffy</td>\n",
              "      <td>I got a wild hair for taffy and ordered this f...</td>\n",
              "    </tr>\n",
              "    <tr>\n",
              "      <th>6</th>\n",
              "      <td>7</td>\n",
              "      <td>B006K2ZZ7K</td>\n",
              "      <td>A1SP2KVKFXXRU1</td>\n",
              "      <td>David C. Sullivan</td>\n",
              "      <td>0</td>\n",
              "      <td>0</td>\n",
              "      <td>5</td>\n",
              "      <td>1340150400</td>\n",
              "      <td>Great!  Just as good as the expensive brands!</td>\n",
              "      <td>This saltwater taffy had great flavors and was...</td>\n",
              "    </tr>\n",
              "    <tr>\n",
              "      <th>7</th>\n",
              "      <td>8</td>\n",
              "      <td>B006K2ZZ7K</td>\n",
              "      <td>A3JRGQVEQN31IQ</td>\n",
              "      <td>Pamela G. Williams</td>\n",
              "      <td>0</td>\n",
              "      <td>0</td>\n",
              "      <td>5</td>\n",
              "      <td>1336003200</td>\n",
              "      <td>Wonderful, tasty taffy</td>\n",
              "      <td>This taffy is so good.  It is very soft and ch...</td>\n",
              "    </tr>\n",
              "    <tr>\n",
              "      <th>8</th>\n",
              "      <td>9</td>\n",
              "      <td>B000E7L2R4</td>\n",
              "      <td>A1MZYO9TZK0BBI</td>\n",
              "      <td>R. James</td>\n",
              "      <td>1</td>\n",
              "      <td>1</td>\n",
              "      <td>5</td>\n",
              "      <td>1322006400</td>\n",
              "      <td>Yay Barley</td>\n",
              "      <td>Right now I'm mostly just sprouting this so my...</td>\n",
              "    </tr>\n",
              "    <tr>\n",
              "      <th>9</th>\n",
              "      <td>10</td>\n",
              "      <td>B00171APVA</td>\n",
              "      <td>A21BT40VZCCYT4</td>\n",
              "      <td>Carol A. Reed</td>\n",
              "      <td>0</td>\n",
              "      <td>0</td>\n",
              "      <td>5</td>\n",
              "      <td>1351209600</td>\n",
              "      <td>Healthy Dog Food</td>\n",
              "      <td>This is a very healthy dog food. Good for thei...</td>\n",
              "    </tr>\n",
              "  </tbody>\n",
              "</table>\n",
              "</div>\n",
              "    <div class=\"colab-df-buttons\">\n",
              "\n",
              "  <div class=\"colab-df-container\">\n",
              "    <button class=\"colab-df-convert\" onclick=\"convertToInteractive('df-7affca0e-9f19-43d2-a92c-5592227af84a')\"\n",
              "            title=\"Convert this dataframe to an interactive table.\"\n",
              "            style=\"display:none;\">\n",
              "\n",
              "  <svg xmlns=\"http://www.w3.org/2000/svg\" height=\"24px\" viewBox=\"0 -960 960 960\">\n",
              "    <path d=\"M120-120v-720h720v720H120Zm60-500h600v-160H180v160Zm220 220h160v-160H400v160Zm0 220h160v-160H400v160ZM180-400h160v-160H180v160Zm440 0h160v-160H620v160ZM180-180h160v-160H180v160Zm440 0h160v-160H620v160Z\"/>\n",
              "  </svg>\n",
              "    </button>\n",
              "\n",
              "  <style>\n",
              "    .colab-df-container {\n",
              "      display:flex;\n",
              "      gap: 12px;\n",
              "    }\n",
              "\n",
              "    .colab-df-convert {\n",
              "      background-color: #E8F0FE;\n",
              "      border: none;\n",
              "      border-radius: 50%;\n",
              "      cursor: pointer;\n",
              "      display: none;\n",
              "      fill: #1967D2;\n",
              "      height: 32px;\n",
              "      padding: 0 0 0 0;\n",
              "      width: 32px;\n",
              "    }\n",
              "\n",
              "    .colab-df-convert:hover {\n",
              "      background-color: #E2EBFA;\n",
              "      box-shadow: 0px 1px 2px rgba(60, 64, 67, 0.3), 0px 1px 3px 1px rgba(60, 64, 67, 0.15);\n",
              "      fill: #174EA6;\n",
              "    }\n",
              "\n",
              "    .colab-df-buttons div {\n",
              "      margin-bottom: 4px;\n",
              "    }\n",
              "\n",
              "    [theme=dark] .colab-df-convert {\n",
              "      background-color: #3B4455;\n",
              "      fill: #D2E3FC;\n",
              "    }\n",
              "\n",
              "    [theme=dark] .colab-df-convert:hover {\n",
              "      background-color: #434B5C;\n",
              "      box-shadow: 0px 1px 3px 1px rgba(0, 0, 0, 0.15);\n",
              "      filter: drop-shadow(0px 1px 2px rgba(0, 0, 0, 0.3));\n",
              "      fill: #FFFFFF;\n",
              "    }\n",
              "  </style>\n",
              "\n",
              "    <script>\n",
              "      const buttonEl =\n",
              "        document.querySelector('#df-7affca0e-9f19-43d2-a92c-5592227af84a button.colab-df-convert');\n",
              "      buttonEl.style.display =\n",
              "        google.colab.kernel.accessAllowed ? 'block' : 'none';\n",
              "\n",
              "      async function convertToInteractive(key) {\n",
              "        const element = document.querySelector('#df-7affca0e-9f19-43d2-a92c-5592227af84a');\n",
              "        const dataTable =\n",
              "          await google.colab.kernel.invokeFunction('convertToInteractive',\n",
              "                                                    [key], {});\n",
              "        if (!dataTable) return;\n",
              "\n",
              "        const docLinkHtml = 'Like what you see? Visit the ' +\n",
              "          '<a target=\"_blank\" href=https://colab.research.google.com/notebooks/data_table.ipynb>data table notebook</a>'\n",
              "          + ' to learn more about interactive tables.';\n",
              "        element.innerHTML = '';\n",
              "        dataTable['output_type'] = 'display_data';\n",
              "        await google.colab.output.renderOutput(dataTable, element);\n",
              "        const docLink = document.createElement('div');\n",
              "        docLink.innerHTML = docLinkHtml;\n",
              "        element.appendChild(docLink);\n",
              "      }\n",
              "    </script>\n",
              "  </div>\n",
              "\n",
              "\n",
              "<div id=\"df-03f4d337-d116-4cea-b04a-becf5959913e\">\n",
              "  <button class=\"colab-df-quickchart\" onclick=\"quickchart('df-03f4d337-d116-4cea-b04a-becf5959913e')\"\n",
              "            title=\"Suggest charts\"\n",
              "            style=\"display:none;\">\n",
              "\n",
              "<svg xmlns=\"http://www.w3.org/2000/svg\" height=\"24px\"viewBox=\"0 0 24 24\"\n",
              "     width=\"24px\">\n",
              "    <g>\n",
              "        <path d=\"M19 3H5c-1.1 0-2 .9-2 2v14c0 1.1.9 2 2 2h14c1.1 0 2-.9 2-2V5c0-1.1-.9-2-2-2zM9 17H7v-7h2v7zm4 0h-2V7h2v10zm4 0h-2v-4h2v4z\"/>\n",
              "    </g>\n",
              "</svg>\n",
              "  </button>\n",
              "\n",
              "<style>\n",
              "  .colab-df-quickchart {\n",
              "      --bg-color: #E8F0FE;\n",
              "      --fill-color: #1967D2;\n",
              "      --hover-bg-color: #E2EBFA;\n",
              "      --hover-fill-color: #174EA6;\n",
              "      --disabled-fill-color: #AAA;\n",
              "      --disabled-bg-color: #DDD;\n",
              "  }\n",
              "\n",
              "  [theme=dark] .colab-df-quickchart {\n",
              "      --bg-color: #3B4455;\n",
              "      --fill-color: #D2E3FC;\n",
              "      --hover-bg-color: #434B5C;\n",
              "      --hover-fill-color: #FFFFFF;\n",
              "      --disabled-bg-color: #3B4455;\n",
              "      --disabled-fill-color: #666;\n",
              "  }\n",
              "\n",
              "  .colab-df-quickchart {\n",
              "    background-color: var(--bg-color);\n",
              "    border: none;\n",
              "    border-radius: 50%;\n",
              "    cursor: pointer;\n",
              "    display: none;\n",
              "    fill: var(--fill-color);\n",
              "    height: 32px;\n",
              "    padding: 0;\n",
              "    width: 32px;\n",
              "  }\n",
              "\n",
              "  .colab-df-quickchart:hover {\n",
              "    background-color: var(--hover-bg-color);\n",
              "    box-shadow: 0 1px 2px rgba(60, 64, 67, 0.3), 0 1px 3px 1px rgba(60, 64, 67, 0.15);\n",
              "    fill: var(--button-hover-fill-color);\n",
              "  }\n",
              "\n",
              "  .colab-df-quickchart-complete:disabled,\n",
              "  .colab-df-quickchart-complete:disabled:hover {\n",
              "    background-color: var(--disabled-bg-color);\n",
              "    fill: var(--disabled-fill-color);\n",
              "    box-shadow: none;\n",
              "  }\n",
              "\n",
              "  .colab-df-spinner {\n",
              "    border: 2px solid var(--fill-color);\n",
              "    border-color: transparent;\n",
              "    border-bottom-color: var(--fill-color);\n",
              "    animation:\n",
              "      spin 1s steps(1) infinite;\n",
              "  }\n",
              "\n",
              "  @keyframes spin {\n",
              "    0% {\n",
              "      border-color: transparent;\n",
              "      border-bottom-color: var(--fill-color);\n",
              "      border-left-color: var(--fill-color);\n",
              "    }\n",
              "    20% {\n",
              "      border-color: transparent;\n",
              "      border-left-color: var(--fill-color);\n",
              "      border-top-color: var(--fill-color);\n",
              "    }\n",
              "    30% {\n",
              "      border-color: transparent;\n",
              "      border-left-color: var(--fill-color);\n",
              "      border-top-color: var(--fill-color);\n",
              "      border-right-color: var(--fill-color);\n",
              "    }\n",
              "    40% {\n",
              "      border-color: transparent;\n",
              "      border-right-color: var(--fill-color);\n",
              "      border-top-color: var(--fill-color);\n",
              "    }\n",
              "    60% {\n",
              "      border-color: transparent;\n",
              "      border-right-color: var(--fill-color);\n",
              "    }\n",
              "    80% {\n",
              "      border-color: transparent;\n",
              "      border-right-color: var(--fill-color);\n",
              "      border-bottom-color: var(--fill-color);\n",
              "    }\n",
              "    90% {\n",
              "      border-color: transparent;\n",
              "      border-bottom-color: var(--fill-color);\n",
              "    }\n",
              "  }\n",
              "</style>\n",
              "\n",
              "  <script>\n",
              "    async function quickchart(key) {\n",
              "      const quickchartButtonEl =\n",
              "        document.querySelector('#' + key + ' button');\n",
              "      quickchartButtonEl.disabled = true;  // To prevent multiple clicks.\n",
              "      quickchartButtonEl.classList.add('colab-df-spinner');\n",
              "      try {\n",
              "        const charts = await google.colab.kernel.invokeFunction(\n",
              "            'suggestCharts', [key], {});\n",
              "      } catch (error) {\n",
              "        console.error('Error during call to suggestCharts:', error);\n",
              "      }\n",
              "      quickchartButtonEl.classList.remove('colab-df-spinner');\n",
              "      quickchartButtonEl.classList.add('colab-df-quickchart-complete');\n",
              "    }\n",
              "    (() => {\n",
              "      let quickchartButtonEl =\n",
              "        document.querySelector('#df-03f4d337-d116-4cea-b04a-becf5959913e button');\n",
              "      quickchartButtonEl.style.display =\n",
              "        google.colab.kernel.accessAllowed ? 'block' : 'none';\n",
              "    })();\n",
              "  </script>\n",
              "</div>\n",
              "\n",
              "    </div>\n",
              "  </div>\n"
            ],
            "application/vnd.google.colaboratory.intrinsic+json": {
              "type": "dataframe",
              "variable_name": "df"
            }
          },
          "metadata": {},
          "execution_count": 18
        }
      ],
      "source": [
        "df.head(10)"
      ]
    },
    {
      "cell_type": "code",
      "execution_count": 19,
      "metadata": {
        "colab": {
          "base_uri": "https://localhost:8080/"
        },
        "id": "R2D3Qe8qJutN",
        "outputId": "c966521a-f1db-459c-ce17-7f290c555825"
      },
      "outputs": [
        {
          "output_type": "stream",
          "name": "stdout",
          "text": [
            "<class 'pandas.core.frame.DataFrame'>\n",
            "RangeIndex: 568454 entries, 0 to 568453\n",
            "Data columns (total 10 columns):\n",
            " #   Column                  Non-Null Count   Dtype \n",
            "---  ------                  --------------   ----- \n",
            " 0   Id                      568454 non-null  int64 \n",
            " 1   ProductId               568454 non-null  object\n",
            " 2   UserId                  568454 non-null  object\n",
            " 3   ProfileName             568428 non-null  object\n",
            " 4   HelpfulnessNumerator    568454 non-null  int64 \n",
            " 5   HelpfulnessDenominator  568454 non-null  int64 \n",
            " 6   Score                   568454 non-null  int64 \n",
            " 7   Time                    568454 non-null  int64 \n",
            " 8   Summary                 568427 non-null  object\n",
            " 9   Text                    568454 non-null  object\n",
            "dtypes: int64(5), object(5)\n",
            "memory usage: 43.4+ MB\n",
            "None\n"
          ]
        }
      ],
      "source": [
        "print(df.info())"
      ]
    },
    {
      "cell_type": "code",
      "source": [
        "df.drop(columns = [\"ProductId\",\"UserId\",\"ProfileName\",\"Time\"] , inplace = True)"
      ],
      "metadata": {
        "id": "m8dJ7dVxg4gt"
      },
      "execution_count": 20,
      "outputs": []
    },
    {
      "cell_type": "code",
      "source": [
        "df=df.head(5000)"
      ],
      "metadata": {
        "id": "xg73Ilz0hHSB"
      },
      "execution_count": 21,
      "outputs": []
    },
    {
      "cell_type": "code",
      "source": [
        "df.info()"
      ],
      "metadata": {
        "colab": {
          "base_uri": "https://localhost:8080/"
        },
        "id": "Vk_BAFh-idya",
        "outputId": "2def1f39-527f-41b5-ec19-330dc9f3d69f"
      },
      "execution_count": 22,
      "outputs": [
        {
          "output_type": "stream",
          "name": "stdout",
          "text": [
            "<class 'pandas.core.frame.DataFrame'>\n",
            "RangeIndex: 5000 entries, 0 to 4999\n",
            "Data columns (total 6 columns):\n",
            " #   Column                  Non-Null Count  Dtype \n",
            "---  ------                  --------------  ----- \n",
            " 0   Id                      5000 non-null   int64 \n",
            " 1   HelpfulnessNumerator    5000 non-null   int64 \n",
            " 2   HelpfulnessDenominator  5000 non-null   int64 \n",
            " 3   Score                   5000 non-null   int64 \n",
            " 4   Summary                 5000 non-null   object\n",
            " 5   Text                    5000 non-null   object\n",
            "dtypes: int64(4), object(2)\n",
            "memory usage: 234.5+ KB\n"
          ]
        }
      ]
    },
    {
      "cell_type": "markdown",
      "metadata": {
        "id": "DtiOwP_gJ75E"
      },
      "source": [
        "# handeling missing data"
      ]
    },
    {
      "cell_type": "code",
      "source": [
        "max_non_null_val = df[\"Id\"].count()\n",
        "print(\"Percentage of missing values in each column:\\n\")\n",
        "missing_percent = []\n",
        "for col in df.columns:\n",
        "  missing_percent.append(df[col].isnull().sum()/max_non_null_val*100)\n",
        "  print(f\"{col} : {df[col].isnull().sum()/max_non_null_val*100}%\")"
      ],
      "metadata": {
        "colab": {
          "base_uri": "https://localhost:8080/"
        },
        "id": "SKBSO5Th9YGa",
        "outputId": "d96b60cf-7e58-45c0-aa0e-ce673338ac0f"
      },
      "execution_count": 23,
      "outputs": [
        {
          "output_type": "stream",
          "name": "stdout",
          "text": [
            "Percentage of missing values in each column:\n",
            "\n",
            "Id : 0.0%\n",
            "HelpfulnessNumerator : 0.0%\n",
            "HelpfulnessDenominator : 0.0%\n",
            "Score : 0.0%\n",
            "Summary : 0.0%\n",
            "Text : 0.0%\n"
          ]
        }
      ]
    },
    {
      "cell_type": "code",
      "source": [
        "df.dropna(inplace = True)\n",
        "df.reset_index(drop=True, inplace=True)\n",
        "\n",
        "df.info()"
      ],
      "metadata": {
        "colab": {
          "base_uri": "https://localhost:8080/"
        },
        "id": "epAkWQSRkGAS",
        "outputId": "e3203fa1-1ddb-4793-ac17-aa9811177886"
      },
      "execution_count": 24,
      "outputs": [
        {
          "output_type": "stream",
          "name": "stdout",
          "text": [
            "<class 'pandas.core.frame.DataFrame'>\n",
            "RangeIndex: 5000 entries, 0 to 4999\n",
            "Data columns (total 6 columns):\n",
            " #   Column                  Non-Null Count  Dtype \n",
            "---  ------                  --------------  ----- \n",
            " 0   Id                      5000 non-null   int64 \n",
            " 1   HelpfulnessNumerator    5000 non-null   int64 \n",
            " 2   HelpfulnessDenominator  5000 non-null   int64 \n",
            " 3   Score                   5000 non-null   int64 \n",
            " 4   Summary                 5000 non-null   object\n",
            " 5   Text                    5000 non-null   object\n",
            "dtypes: int64(4), object(2)\n",
            "memory usage: 234.5+ KB\n"
          ]
        }
      ]
    },
    {
      "cell_type": "code",
      "source": [
        "for col in df:\n",
        "  print(col,\" : \", df[col].isnull().sum())\n"
      ],
      "metadata": {
        "colab": {
          "base_uri": "https://localhost:8080/"
        },
        "id": "bn9BtaPw7Mu9",
        "outputId": "1c0044c9-4d56-4c79-b812-71d8b54ad26d"
      },
      "execution_count": 25,
      "outputs": [
        {
          "output_type": "stream",
          "name": "stdout",
          "text": [
            "Id  :  0\n",
            "HelpfulnessNumerator  :  0\n",
            "HelpfulnessDenominator  :  0\n",
            "Score  :  0\n",
            "Summary  :  0\n",
            "Text  :  0\n"
          ]
        }
      ]
    },
    {
      "cell_type": "code",
      "source": [
        "df[\"Combined_Text\"] = df[\"Text\"] + df[\"Summary\"]"
      ],
      "metadata": {
        "id": "la9EQMA9rgQx"
      },
      "execution_count": 26,
      "outputs": []
    },
    {
      "cell_type": "markdown",
      "source": [
        "#VADER method"
      ],
      "metadata": {
        "id": "oF2vZf95grkf"
      }
    },
    {
      "cell_type": "code",
      "source": [
        "import nltk\n",
        "from nltk.sentiment import SentimentIntensityAnalyzer\n",
        "nltk.download('vader_lexicon')\n",
        "sia = SentimentIntensityAnalyzer()"
      ],
      "metadata": {
        "id": "_SwZoyb0OEa3",
        "colab": {
          "base_uri": "https://localhost:8080/"
        },
        "outputId": "ae04f36e-24e4-455f-e0c8-e51ea932b822"
      },
      "execution_count": 14,
      "outputs": [
        {
          "output_type": "stream",
          "name": "stderr",
          "text": [
            "[nltk_data] Downloading package vader_lexicon to /root/nltk_data...\n"
          ]
        }
      ]
    },
    {
      "cell_type": "code",
      "source": [
        "combined_score = []\n",
        "for i in df[\"Combined_Text\"]:\n",
        "  score = sia.polarity_scores(i)\n",
        "  combined_score.append(score)\n",
        "print(combined_score[:5])"
      ],
      "metadata": {
        "colab": {
          "base_uri": "https://localhost:8080/"
        },
        "id": "gMZ32Clwr0vi",
        "outputId": "fe66afe8-7f2d-4d25-f543-0ff23d417d42"
      },
      "execution_count": 17,
      "outputs": [
        {
          "output_type": "stream",
          "name": "stdout",
          "text": [
            "[{'neg': 0.0, 'neu': 0.711, 'pos': 0.289, 'compound': 0.9441}, {'neg': 0.131, 'neu': 0.869, 'pos': 0.0, 'compound': -0.5664}, {'neg': 0.066, 'neu': 0.781, 'pos': 0.153, 'compound': 0.8803}, {'neg': 0.0, 'neu': 1.0, 'pos': 0.0, 'compound': 0.0}, {'neg': 0.0, 'neu': 0.565, 'pos': 0.435, 'compound': 0.9468}]\n"
          ]
        }
      ]
    },
    {
      "cell_type": "code",
      "source": [
        "score_list_df = pd.DataFrame(combined_score)"
      ],
      "metadata": {
        "id": "tfnbPS_VjfjR"
      },
      "execution_count": 18,
      "outputs": []
    },
    {
      "cell_type": "code",
      "source": [
        "df = pd.concat([df, score_list_df], axis =1 )"
      ],
      "metadata": {
        "id": "KBKt6ZlI0ZOn"
      },
      "execution_count": 19,
      "outputs": []
    },
    {
      "cell_type": "code",
      "source": [
        "df.info()"
      ],
      "metadata": {
        "colab": {
          "base_uri": "https://localhost:8080/"
        },
        "id": "gpZUJE4z9Rj8",
        "outputId": "2173b607-5373-4077-b9b4-951a67d12f70"
      },
      "execution_count": 20,
      "outputs": [
        {
          "output_type": "stream",
          "name": "stdout",
          "text": [
            "<class 'pandas.core.frame.DataFrame'>\n",
            "RangeIndex: 49998 entries, 0 to 49997\n",
            "Data columns (total 11 columns):\n",
            " #   Column                  Non-Null Count  Dtype  \n",
            "---  ------                  --------------  -----  \n",
            " 0   Id                      49998 non-null  int64  \n",
            " 1   HelpfulnessNumerator    49998 non-null  int64  \n",
            " 2   HelpfulnessDenominator  49998 non-null  int64  \n",
            " 3   Score                   49998 non-null  int64  \n",
            " 4   Summary                 49998 non-null  object \n",
            " 5   Text                    49998 non-null  object \n",
            " 6   Combined_Text           49998 non-null  object \n",
            " 7   neg                     49998 non-null  float64\n",
            " 8   neu                     49998 non-null  float64\n",
            " 9   pos                     49998 non-null  float64\n",
            " 10  compound                49998 non-null  float64\n",
            "dtypes: float64(4), int64(4), object(3)\n",
            "memory usage: 4.2+ MB\n"
          ]
        }
      ]
    },
    {
      "cell_type": "code",
      "source": [
        "for col in df:\n",
        "  print(col,\" : \", df[col].isnull().sum())\n"
      ],
      "metadata": {
        "colab": {
          "base_uri": "https://localhost:8080/"
        },
        "id": "y9D0ZSM57GA2",
        "outputId": "55f93b74-705f-4add-fcb7-7c24c57ce840"
      },
      "execution_count": 21,
      "outputs": [
        {
          "output_type": "stream",
          "name": "stdout",
          "text": [
            "Id  :  0\n",
            "HelpfulnessNumerator  :  0\n",
            "HelpfulnessDenominator  :  0\n",
            "Score  :  0\n",
            "Summary  :  0\n",
            "Text  :  0\n",
            "Combined_Text  :  0\n",
            "neg  :  0\n",
            "neu  :  0\n",
            "pos  :  0\n",
            "compound  :  0\n"
          ]
        }
      ]
    },
    {
      "cell_type": "code",
      "source": [
        "df_X = df.drop(columns = [\"Text\",\"Id\",\"Summary\",\"Score\", \"Combined_Text\"])\n",
        "y= df[\"Score\"]-1"
      ],
      "metadata": {
        "id": "uPxDKKxC4s9V"
      },
      "execution_count": 37,
      "outputs": []
    },
    {
      "cell_type": "markdown",
      "metadata": {
        "id": "DH_VjgPzC2cd"
      },
      "source": [
        "## Splitting data into training and testing datasets"
      ]
    },
    {
      "cell_type": "code",
      "metadata": {
        "id": "qQXYM5VzDDDI"
      },
      "source": [
        "from sklearn.model_selection import train_test_split\n",
        "X_train, X_test, y_train, y_test = train_test_split(df_X, y, test_size = 0.20, random_state = 0)"
      ],
      "execution_count": 38,
      "outputs": []
    },
    {
      "cell_type": "markdown",
      "source": [
        "##Scaling the data"
      ],
      "metadata": {
        "id": "5gn8e7fX5l7n"
      }
    },
    {
      "cell_type": "code",
      "source": [
        "from sklearn.preprocessing import StandardScaler\n",
        "scaler = StandardScaler()\n",
        "X_train = scaler.fit_transform(X_train)\n",
        "X_test = scaler.transform(X_test)"
      ],
      "metadata": {
        "id": "vGbGhrl65lh3"
      },
      "execution_count": 39,
      "outputs": []
    },
    {
      "cell_type": "code",
      "source": [
        "np.where(np.isnan(X_train))"
      ],
      "metadata": {
        "colab": {
          "base_uri": "https://localhost:8080/"
        },
        "id": "ZOp7fomR4oUQ",
        "outputId": "a265364e-167a-4bd5-f024-7abb5378a813"
      },
      "execution_count": 40,
      "outputs": [
        {
          "output_type": "execute_result",
          "data": {
            "text/plain": [
              "(array([], dtype=int64), array([], dtype=int64))"
            ]
          },
          "metadata": {},
          "execution_count": 40
        }
      ]
    },
    {
      "cell_type": "markdown",
      "metadata": {
        "id": "gw15OuFWsKTF"
      },
      "source": [
        "##Trainnig Logistic regression model\n",
        "\n"
      ]
    },
    {
      "cell_type": "code",
      "execution_count": 41,
      "metadata": {
        "colab": {
          "base_uri": "https://localhost:8080/",
          "height": 74
        },
        "id": "MHw608VpsJux",
        "outputId": "204f4f03-7b8a-4c9a-d25f-2537658b7761"
      },
      "outputs": [
        {
          "output_type": "execute_result",
          "data": {
            "text/plain": [
              "LogisticRegression(random_state=0, solver='liblinear')"
            ],
            "text/html": [
              "<style>#sk-container-id-3 {color: black;}#sk-container-id-3 pre{padding: 0;}#sk-container-id-3 div.sk-toggleable {background-color: white;}#sk-container-id-3 label.sk-toggleable__label {cursor: pointer;display: block;width: 100%;margin-bottom: 0;padding: 0.3em;box-sizing: border-box;text-align: center;}#sk-container-id-3 label.sk-toggleable__label-arrow:before {content: \"▸\";float: left;margin-right: 0.25em;color: #696969;}#sk-container-id-3 label.sk-toggleable__label-arrow:hover:before {color: black;}#sk-container-id-3 div.sk-estimator:hover label.sk-toggleable__label-arrow:before {color: black;}#sk-container-id-3 div.sk-toggleable__content {max-height: 0;max-width: 0;overflow: hidden;text-align: left;background-color: #f0f8ff;}#sk-container-id-3 div.sk-toggleable__content pre {margin: 0.2em;color: black;border-radius: 0.25em;background-color: #f0f8ff;}#sk-container-id-3 input.sk-toggleable__control:checked~div.sk-toggleable__content {max-height: 200px;max-width: 100%;overflow: auto;}#sk-container-id-3 input.sk-toggleable__control:checked~label.sk-toggleable__label-arrow:before {content: \"▾\";}#sk-container-id-3 div.sk-estimator input.sk-toggleable__control:checked~label.sk-toggleable__label {background-color: #d4ebff;}#sk-container-id-3 div.sk-label input.sk-toggleable__control:checked~label.sk-toggleable__label {background-color: #d4ebff;}#sk-container-id-3 input.sk-hidden--visually {border: 0;clip: rect(1px 1px 1px 1px);clip: rect(1px, 1px, 1px, 1px);height: 1px;margin: -1px;overflow: hidden;padding: 0;position: absolute;width: 1px;}#sk-container-id-3 div.sk-estimator {font-family: monospace;background-color: #f0f8ff;border: 1px dotted black;border-radius: 0.25em;box-sizing: border-box;margin-bottom: 0.5em;}#sk-container-id-3 div.sk-estimator:hover {background-color: #d4ebff;}#sk-container-id-3 div.sk-parallel-item::after {content: \"\";width: 100%;border-bottom: 1px solid gray;flex-grow: 1;}#sk-container-id-3 div.sk-label:hover label.sk-toggleable__label {background-color: #d4ebff;}#sk-container-id-3 div.sk-serial::before {content: \"\";position: absolute;border-left: 1px solid gray;box-sizing: border-box;top: 0;bottom: 0;left: 50%;z-index: 0;}#sk-container-id-3 div.sk-serial {display: flex;flex-direction: column;align-items: center;background-color: white;padding-right: 0.2em;padding-left: 0.2em;position: relative;}#sk-container-id-3 div.sk-item {position: relative;z-index: 1;}#sk-container-id-3 div.sk-parallel {display: flex;align-items: stretch;justify-content: center;background-color: white;position: relative;}#sk-container-id-3 div.sk-item::before, #sk-container-id-3 div.sk-parallel-item::before {content: \"\";position: absolute;border-left: 1px solid gray;box-sizing: border-box;top: 0;bottom: 0;left: 50%;z-index: -1;}#sk-container-id-3 div.sk-parallel-item {display: flex;flex-direction: column;z-index: 1;position: relative;background-color: white;}#sk-container-id-3 div.sk-parallel-item:first-child::after {align-self: flex-end;width: 50%;}#sk-container-id-3 div.sk-parallel-item:last-child::after {align-self: flex-start;width: 50%;}#sk-container-id-3 div.sk-parallel-item:only-child::after {width: 0;}#sk-container-id-3 div.sk-dashed-wrapped {border: 1px dashed gray;margin: 0 0.4em 0.5em 0.4em;box-sizing: border-box;padding-bottom: 0.4em;background-color: white;}#sk-container-id-3 div.sk-label label {font-family: monospace;font-weight: bold;display: inline-block;line-height: 1.2em;}#sk-container-id-3 div.sk-label-container {text-align: center;}#sk-container-id-3 div.sk-container {/* jupyter's `normalize.less` sets `[hidden] { display: none; }` but bootstrap.min.css set `[hidden] { display: none !important; }` so we also need the `!important` here to be able to override the default hidden behavior on the sphinx rendered scikit-learn.org. See: https://github.com/scikit-learn/scikit-learn/issues/21755 */display: inline-block !important;position: relative;}#sk-container-id-3 div.sk-text-repr-fallback {display: none;}</style><div id=\"sk-container-id-3\" class=\"sk-top-container\"><div class=\"sk-text-repr-fallback\"><pre>LogisticRegression(random_state=0, solver=&#x27;liblinear&#x27;)</pre><b>In a Jupyter environment, please rerun this cell to show the HTML representation or trust the notebook. <br />On GitHub, the HTML representation is unable to render, please try loading this page with nbviewer.org.</b></div><div class=\"sk-container\" hidden><div class=\"sk-item\"><div class=\"sk-estimator sk-toggleable\"><input class=\"sk-toggleable__control sk-hidden--visually\" id=\"sk-estimator-id-3\" type=\"checkbox\" checked><label for=\"sk-estimator-id-3\" class=\"sk-toggleable__label sk-toggleable__label-arrow\">LogisticRegression</label><div class=\"sk-toggleable__content\"><pre>LogisticRegression(random_state=0, solver=&#x27;liblinear&#x27;)</pre></div></div></div></div></div>"
            ]
          },
          "metadata": {},
          "execution_count": 41
        }
      ],
      "source": [
        "from sklearn.linear_model import LogisticRegression\n",
        "classifier = LogisticRegression(solver='liblinear',random_state = 0)\n",
        "classifier.fit(X_train, y_train)"
      ]
    },
    {
      "cell_type": "code",
      "execution_count": 42,
      "metadata": {
        "colab": {
          "base_uri": "https://localhost:8080/"
        },
        "id": "RR5xcxPAv0QN",
        "outputId": "e795a5a5-313e-4305-b376-806d31e3c996"
      },
      "outputs": [
        {
          "output_type": "stream",
          "name": "stdout",
          "text": [
            "[[ 487    0    0    0  498]\n",
            " [ 161    0    0    0  407]\n",
            " [ 122    0    0    0  683]\n",
            " [  58    0    0    0 1439]\n",
            " [ 140    0    0    0 6005]]\n"
          ]
        },
        {
          "output_type": "execute_result",
          "data": {
            "text/plain": [
              "0.6492"
            ]
          },
          "metadata": {},
          "execution_count": 42
        }
      ],
      "source": [
        "from sklearn.metrics import confusion_matrix, accuracy_score\n",
        "y_pred = classifier.predict(X_test)\n",
        "cm = confusion_matrix(y_test, y_pred)\n",
        "print(cm)\n",
        "accuracy_score(y_test, y_pred)"
      ]
    },
    {
      "cell_type": "markdown",
      "source": [
        "###Testing model for overfitting"
      ],
      "metadata": {
        "id": "hJFTSHyWR9Gb"
      }
    },
    {
      "cell_type": "code",
      "source": [
        "y_train_pred = classifier.predict(X_train)\n",
        "cm = confusion_matrix(y_train, y_train_pred)\n",
        "print(cm)\n",
        "accuracy_score(y_train, y_train_pred)\n"
      ],
      "metadata": {
        "id": "_GPthbxtRLoW",
        "colab": {
          "base_uri": "https://localhost:8080/"
        },
        "outputId": "d0ca5566-5e45-40a6-aae1-e95881c9bf5c"
      },
      "execution_count": 43,
      "outputs": [
        {
          "output_type": "stream",
          "name": "stdout",
          "text": [
            "[[ 1909     0     0     0  1827]\n",
            " [  642     0     0     0  1602]\n",
            " [  518     0     0     0  2724]\n",
            " [  240     0     0     0  5551]\n",
            " [  609     0     0     0 24376]]\n"
          ]
        },
        {
          "output_type": "execute_result",
          "data": {
            "text/plain": [
              "0.6571578578928946"
            ]
          },
          "metadata": {},
          "execution_count": 43
        }
      ]
    },
    {
      "cell_type": "markdown",
      "metadata": {
        "id": "_05U5kwwMHT3"
      },
      "source": [
        "##Training a knn model\n",
        "\n",
        "\n"
      ]
    },
    {
      "cell_type": "code",
      "execution_count": 44,
      "metadata": {
        "id": "26Y8029AL4OC",
        "colab": {
          "base_uri": "https://localhost:8080/",
          "height": 74
        },
        "outputId": "03574329-1732-4ad0-896c-3b48aba841fb"
      },
      "outputs": [
        {
          "output_type": "execute_result",
          "data": {
            "text/plain": [
              "KNeighborsClassifier()"
            ],
            "text/html": [
              "<style>#sk-container-id-4 {color: black;}#sk-container-id-4 pre{padding: 0;}#sk-container-id-4 div.sk-toggleable {background-color: white;}#sk-container-id-4 label.sk-toggleable__label {cursor: pointer;display: block;width: 100%;margin-bottom: 0;padding: 0.3em;box-sizing: border-box;text-align: center;}#sk-container-id-4 label.sk-toggleable__label-arrow:before {content: \"▸\";float: left;margin-right: 0.25em;color: #696969;}#sk-container-id-4 label.sk-toggleable__label-arrow:hover:before {color: black;}#sk-container-id-4 div.sk-estimator:hover label.sk-toggleable__label-arrow:before {color: black;}#sk-container-id-4 div.sk-toggleable__content {max-height: 0;max-width: 0;overflow: hidden;text-align: left;background-color: #f0f8ff;}#sk-container-id-4 div.sk-toggleable__content pre {margin: 0.2em;color: black;border-radius: 0.25em;background-color: #f0f8ff;}#sk-container-id-4 input.sk-toggleable__control:checked~div.sk-toggleable__content {max-height: 200px;max-width: 100%;overflow: auto;}#sk-container-id-4 input.sk-toggleable__control:checked~label.sk-toggleable__label-arrow:before {content: \"▾\";}#sk-container-id-4 div.sk-estimator input.sk-toggleable__control:checked~label.sk-toggleable__label {background-color: #d4ebff;}#sk-container-id-4 div.sk-label input.sk-toggleable__control:checked~label.sk-toggleable__label {background-color: #d4ebff;}#sk-container-id-4 input.sk-hidden--visually {border: 0;clip: rect(1px 1px 1px 1px);clip: rect(1px, 1px, 1px, 1px);height: 1px;margin: -1px;overflow: hidden;padding: 0;position: absolute;width: 1px;}#sk-container-id-4 div.sk-estimator {font-family: monospace;background-color: #f0f8ff;border: 1px dotted black;border-radius: 0.25em;box-sizing: border-box;margin-bottom: 0.5em;}#sk-container-id-4 div.sk-estimator:hover {background-color: #d4ebff;}#sk-container-id-4 div.sk-parallel-item::after {content: \"\";width: 100%;border-bottom: 1px solid gray;flex-grow: 1;}#sk-container-id-4 div.sk-label:hover label.sk-toggleable__label {background-color: #d4ebff;}#sk-container-id-4 div.sk-serial::before {content: \"\";position: absolute;border-left: 1px solid gray;box-sizing: border-box;top: 0;bottom: 0;left: 50%;z-index: 0;}#sk-container-id-4 div.sk-serial {display: flex;flex-direction: column;align-items: center;background-color: white;padding-right: 0.2em;padding-left: 0.2em;position: relative;}#sk-container-id-4 div.sk-item {position: relative;z-index: 1;}#sk-container-id-4 div.sk-parallel {display: flex;align-items: stretch;justify-content: center;background-color: white;position: relative;}#sk-container-id-4 div.sk-item::before, #sk-container-id-4 div.sk-parallel-item::before {content: \"\";position: absolute;border-left: 1px solid gray;box-sizing: border-box;top: 0;bottom: 0;left: 50%;z-index: -1;}#sk-container-id-4 div.sk-parallel-item {display: flex;flex-direction: column;z-index: 1;position: relative;background-color: white;}#sk-container-id-4 div.sk-parallel-item:first-child::after {align-self: flex-end;width: 50%;}#sk-container-id-4 div.sk-parallel-item:last-child::after {align-self: flex-start;width: 50%;}#sk-container-id-4 div.sk-parallel-item:only-child::after {width: 0;}#sk-container-id-4 div.sk-dashed-wrapped {border: 1px dashed gray;margin: 0 0.4em 0.5em 0.4em;box-sizing: border-box;padding-bottom: 0.4em;background-color: white;}#sk-container-id-4 div.sk-label label {font-family: monospace;font-weight: bold;display: inline-block;line-height: 1.2em;}#sk-container-id-4 div.sk-label-container {text-align: center;}#sk-container-id-4 div.sk-container {/* jupyter's `normalize.less` sets `[hidden] { display: none; }` but bootstrap.min.css set `[hidden] { display: none !important; }` so we also need the `!important` here to be able to override the default hidden behavior on the sphinx rendered scikit-learn.org. See: https://github.com/scikit-learn/scikit-learn/issues/21755 */display: inline-block !important;position: relative;}#sk-container-id-4 div.sk-text-repr-fallback {display: none;}</style><div id=\"sk-container-id-4\" class=\"sk-top-container\"><div class=\"sk-text-repr-fallback\"><pre>KNeighborsClassifier()</pre><b>In a Jupyter environment, please rerun this cell to show the HTML representation or trust the notebook. <br />On GitHub, the HTML representation is unable to render, please try loading this page with nbviewer.org.</b></div><div class=\"sk-container\" hidden><div class=\"sk-item\"><div class=\"sk-estimator sk-toggleable\"><input class=\"sk-toggleable__control sk-hidden--visually\" id=\"sk-estimator-id-4\" type=\"checkbox\" checked><label for=\"sk-estimator-id-4\" class=\"sk-toggleable__label sk-toggleable__label-arrow\">KNeighborsClassifier</label><div class=\"sk-toggleable__content\"><pre>KNeighborsClassifier()</pre></div></div></div></div></div>"
            ]
          },
          "metadata": {},
          "execution_count": 44
        }
      ],
      "source": [
        "from sklearn.neighbors import KNeighborsClassifier\n",
        "classifier = KNeighborsClassifier()\n",
        "classifier.fit(X_train, y_train)"
      ]
    },
    {
      "cell_type": "code",
      "execution_count": 45,
      "metadata": {
        "id": "tZgaMZdxME8G",
        "colab": {
          "base_uri": "https://localhost:8080/"
        },
        "outputId": "78a820da-67a5-4ea5-f849-9c9801809198"
      },
      "outputs": [
        {
          "output_type": "stream",
          "name": "stdout",
          "text": [
            "[[ 492   75   68   71  279]\n",
            " [ 149   55   61   53  250]\n",
            " [ 135   45   73  106  446]\n",
            " [ 113   34   77  190 1083]\n",
            " [ 234  109  190  484 5128]]\n"
          ]
        },
        {
          "output_type": "execute_result",
          "data": {
            "text/plain": [
              "0.5938"
            ]
          },
          "metadata": {},
          "execution_count": 45
        }
      ],
      "source": [
        "from sklearn.metrics import confusion_matrix, accuracy_score\n",
        "y_pred = classifier.predict(X_test)\n",
        "cm = confusion_matrix(y_test, y_pred)\n",
        "print(cm)\n",
        "accuracy_score(y_test, y_pred)"
      ]
    },
    {
      "cell_type": "markdown",
      "source": [
        "###testing for overfiting"
      ],
      "metadata": {
        "id": "Odyx1K3gSOf-"
      }
    },
    {
      "cell_type": "code",
      "source": [
        "y_train_pred = classifier.predict(X_train)\n",
        "cm = confusion_matrix(y_train, y_train_pred)\n",
        "print(cm)\n",
        "accuracy_score(y_train, y_train_pred)\n"
      ],
      "metadata": {
        "id": "RgSBLTJASICu",
        "colab": {
          "base_uri": "https://localhost:8080/"
        },
        "outputId": "b2e4b3bb-d29e-4a0a-9302-4985936e21dc"
      },
      "execution_count": 46,
      "outputs": [
        {
          "output_type": "stream",
          "name": "stdout",
          "text": [
            "[[ 2483   160   175   182   736]\n",
            " [  484   662   147   186   765]\n",
            " [  446   161   995   312  1328]\n",
            " [  311   133   295  1729  3323]\n",
            " [  650   245   463  1144 22483]]\n"
          ]
        },
        {
          "output_type": "execute_result",
          "data": {
            "text/plain": [
              "0.7088354417720886"
            ]
          },
          "metadata": {},
          "execution_count": 46
        }
      ]
    },
    {
      "cell_type": "markdown",
      "source": [
        "##XG boost model"
      ],
      "metadata": {
        "id": "akG051g_-X0u"
      }
    },
    {
      "cell_type": "code",
      "source": [
        "from xgboost import XGBClassifier\n",
        "classifier = XGBClassifier()\n",
        "classifier.fit(X_train, y_train)"
      ],
      "metadata": {
        "id": "yI6doslG-dBv",
        "colab": {
          "base_uri": "https://localhost:8080/",
          "height": 247
        },
        "outputId": "e4a6476a-8469-4e5c-b766-fff829718d52"
      },
      "execution_count": 47,
      "outputs": [
        {
          "output_type": "execute_result",
          "data": {
            "text/plain": [
              "XGBClassifier(base_score=None, booster=None, callbacks=None,\n",
              "              colsample_bylevel=None, colsample_bynode=None,\n",
              "              colsample_bytree=None, device=None, early_stopping_rounds=None,\n",
              "              enable_categorical=False, eval_metric=None, feature_types=None,\n",
              "              gamma=None, grow_policy=None, importance_type=None,\n",
              "              interaction_constraints=None, learning_rate=None, max_bin=None,\n",
              "              max_cat_threshold=None, max_cat_to_onehot=None,\n",
              "              max_delta_step=None, max_depth=None, max_leaves=None,\n",
              "              min_child_weight=None, missing=nan, monotone_constraints=None,\n",
              "              multi_strategy=None, n_estimators=None, n_jobs=None,\n",
              "              num_parallel_tree=None, objective='multi:softprob', ...)"
            ],
            "text/html": [
              "<style>#sk-container-id-5 {color: black;}#sk-container-id-5 pre{padding: 0;}#sk-container-id-5 div.sk-toggleable {background-color: white;}#sk-container-id-5 label.sk-toggleable__label {cursor: pointer;display: block;width: 100%;margin-bottom: 0;padding: 0.3em;box-sizing: border-box;text-align: center;}#sk-container-id-5 label.sk-toggleable__label-arrow:before {content: \"▸\";float: left;margin-right: 0.25em;color: #696969;}#sk-container-id-5 label.sk-toggleable__label-arrow:hover:before {color: black;}#sk-container-id-5 div.sk-estimator:hover label.sk-toggleable__label-arrow:before {color: black;}#sk-container-id-5 div.sk-toggleable__content {max-height: 0;max-width: 0;overflow: hidden;text-align: left;background-color: #f0f8ff;}#sk-container-id-5 div.sk-toggleable__content pre {margin: 0.2em;color: black;border-radius: 0.25em;background-color: #f0f8ff;}#sk-container-id-5 input.sk-toggleable__control:checked~div.sk-toggleable__content {max-height: 200px;max-width: 100%;overflow: auto;}#sk-container-id-5 input.sk-toggleable__control:checked~label.sk-toggleable__label-arrow:before {content: \"▾\";}#sk-container-id-5 div.sk-estimator input.sk-toggleable__control:checked~label.sk-toggleable__label {background-color: #d4ebff;}#sk-container-id-5 div.sk-label input.sk-toggleable__control:checked~label.sk-toggleable__label {background-color: #d4ebff;}#sk-container-id-5 input.sk-hidden--visually {border: 0;clip: rect(1px 1px 1px 1px);clip: rect(1px, 1px, 1px, 1px);height: 1px;margin: -1px;overflow: hidden;padding: 0;position: absolute;width: 1px;}#sk-container-id-5 div.sk-estimator {font-family: monospace;background-color: #f0f8ff;border: 1px dotted black;border-radius: 0.25em;box-sizing: border-box;margin-bottom: 0.5em;}#sk-container-id-5 div.sk-estimator:hover {background-color: #d4ebff;}#sk-container-id-5 div.sk-parallel-item::after {content: \"\";width: 100%;border-bottom: 1px solid gray;flex-grow: 1;}#sk-container-id-5 div.sk-label:hover label.sk-toggleable__label {background-color: #d4ebff;}#sk-container-id-5 div.sk-serial::before {content: \"\";position: absolute;border-left: 1px solid gray;box-sizing: border-box;top: 0;bottom: 0;left: 50%;z-index: 0;}#sk-container-id-5 div.sk-serial {display: flex;flex-direction: column;align-items: center;background-color: white;padding-right: 0.2em;padding-left: 0.2em;position: relative;}#sk-container-id-5 div.sk-item {position: relative;z-index: 1;}#sk-container-id-5 div.sk-parallel {display: flex;align-items: stretch;justify-content: center;background-color: white;position: relative;}#sk-container-id-5 div.sk-item::before, #sk-container-id-5 div.sk-parallel-item::before {content: \"\";position: absolute;border-left: 1px solid gray;box-sizing: border-box;top: 0;bottom: 0;left: 50%;z-index: -1;}#sk-container-id-5 div.sk-parallel-item {display: flex;flex-direction: column;z-index: 1;position: relative;background-color: white;}#sk-container-id-5 div.sk-parallel-item:first-child::after {align-self: flex-end;width: 50%;}#sk-container-id-5 div.sk-parallel-item:last-child::after {align-self: flex-start;width: 50%;}#sk-container-id-5 div.sk-parallel-item:only-child::after {width: 0;}#sk-container-id-5 div.sk-dashed-wrapped {border: 1px dashed gray;margin: 0 0.4em 0.5em 0.4em;box-sizing: border-box;padding-bottom: 0.4em;background-color: white;}#sk-container-id-5 div.sk-label label {font-family: monospace;font-weight: bold;display: inline-block;line-height: 1.2em;}#sk-container-id-5 div.sk-label-container {text-align: center;}#sk-container-id-5 div.sk-container {/* jupyter's `normalize.less` sets `[hidden] { display: none; }` but bootstrap.min.css set `[hidden] { display: none !important; }` so we also need the `!important` here to be able to override the default hidden behavior on the sphinx rendered scikit-learn.org. See: https://github.com/scikit-learn/scikit-learn/issues/21755 */display: inline-block !important;position: relative;}#sk-container-id-5 div.sk-text-repr-fallback {display: none;}</style><div id=\"sk-container-id-5\" class=\"sk-top-container\"><div class=\"sk-text-repr-fallback\"><pre>XGBClassifier(base_score=None, booster=None, callbacks=None,\n",
              "              colsample_bylevel=None, colsample_bynode=None,\n",
              "              colsample_bytree=None, device=None, early_stopping_rounds=None,\n",
              "              enable_categorical=False, eval_metric=None, feature_types=None,\n",
              "              gamma=None, grow_policy=None, importance_type=None,\n",
              "              interaction_constraints=None, learning_rate=None, max_bin=None,\n",
              "              max_cat_threshold=None, max_cat_to_onehot=None,\n",
              "              max_delta_step=None, max_depth=None, max_leaves=None,\n",
              "              min_child_weight=None, missing=nan, monotone_constraints=None,\n",
              "              multi_strategy=None, n_estimators=None, n_jobs=None,\n",
              "              num_parallel_tree=None, objective=&#x27;multi:softprob&#x27;, ...)</pre><b>In a Jupyter environment, please rerun this cell to show the HTML representation or trust the notebook. <br />On GitHub, the HTML representation is unable to render, please try loading this page with nbviewer.org.</b></div><div class=\"sk-container\" hidden><div class=\"sk-item\"><div class=\"sk-estimator sk-toggleable\"><input class=\"sk-toggleable__control sk-hidden--visually\" id=\"sk-estimator-id-5\" type=\"checkbox\" checked><label for=\"sk-estimator-id-5\" class=\"sk-toggleable__label sk-toggleable__label-arrow\">XGBClassifier</label><div class=\"sk-toggleable__content\"><pre>XGBClassifier(base_score=None, booster=None, callbacks=None,\n",
              "              colsample_bylevel=None, colsample_bynode=None,\n",
              "              colsample_bytree=None, device=None, early_stopping_rounds=None,\n",
              "              enable_categorical=False, eval_metric=None, feature_types=None,\n",
              "              gamma=None, grow_policy=None, importance_type=None,\n",
              "              interaction_constraints=None, learning_rate=None, max_bin=None,\n",
              "              max_cat_threshold=None, max_cat_to_onehot=None,\n",
              "              max_delta_step=None, max_depth=None, max_leaves=None,\n",
              "              min_child_weight=None, missing=nan, monotone_constraints=None,\n",
              "              multi_strategy=None, n_estimators=None, n_jobs=None,\n",
              "              num_parallel_tree=None, objective=&#x27;multi:softprob&#x27;, ...)</pre></div></div></div></div></div>"
            ]
          },
          "metadata": {},
          "execution_count": 47
        }
      ]
    },
    {
      "cell_type": "code",
      "source": [
        "from sklearn.metrics import confusion_matrix, accuracy_score\n",
        "y_pred = classifier.predict(X_test)\n",
        "cm = confusion_matrix(y_test, y_pred)\n",
        "print(cm)\n",
        "accuracy_score(y_test, y_pred)"
      ],
      "metadata": {
        "id": "eyHHvjKd-ghI",
        "colab": {
          "base_uri": "https://localhost:8080/"
        },
        "outputId": "43b4ca2a-3f4f-443f-e110-339d37b848ce"
      },
      "execution_count": 48,
      "outputs": [
        {
          "output_type": "stream",
          "name": "stdout",
          "text": [
            "[[ 514   17   31   12  411]\n",
            " [ 157   21   25    9  356]\n",
            " [ 129    7   35   19  615]\n",
            " [  83    9   21   35 1349]\n",
            " [ 136   12   20   38 5939]]\n"
          ]
        },
        {
          "output_type": "execute_result",
          "data": {
            "text/plain": [
              "0.6544"
            ]
          },
          "metadata": {},
          "execution_count": 48
        }
      ]
    },
    {
      "cell_type": "markdown",
      "source": [
        "###Hyperparam tuning with optuna"
      ],
      "metadata": {
        "id": "qvkitWbGYOqd"
      }
    },
    {
      "cell_type": "code",
      "source": [
        "!pip install optuna\n"
      ],
      "metadata": {
        "id": "PE_GbBK2UCm0",
        "colab": {
          "base_uri": "https://localhost:8080/"
        },
        "outputId": "3b6a2ce8-1106-436c-f6dc-b09ef5c40663"
      },
      "execution_count": 49,
      "outputs": [
        {
          "output_type": "stream",
          "name": "stdout",
          "text": [
            "Collecting optuna\n",
            "  Downloading optuna-3.6.1-py3-none-any.whl.metadata (17 kB)\n",
            "Collecting alembic>=1.5.0 (from optuna)\n",
            "  Downloading alembic-1.13.2-py3-none-any.whl.metadata (7.4 kB)\n",
            "Collecting colorlog (from optuna)\n",
            "  Downloading colorlog-6.8.2-py3-none-any.whl.metadata (10 kB)\n",
            "Requirement already satisfied: numpy in /usr/local/lib/python3.10/dist-packages (from optuna) (1.26.4)\n",
            "Requirement already satisfied: packaging>=20.0 in /usr/local/lib/python3.10/dist-packages (from optuna) (24.1)\n",
            "Requirement already satisfied: sqlalchemy>=1.3.0 in /usr/local/lib/python3.10/dist-packages (from optuna) (2.0.32)\n",
            "Requirement already satisfied: tqdm in /usr/local/lib/python3.10/dist-packages (from optuna) (4.66.5)\n",
            "Requirement already satisfied: PyYAML in /usr/local/lib/python3.10/dist-packages (from optuna) (6.0.2)\n",
            "Collecting Mako (from alembic>=1.5.0->optuna)\n",
            "  Downloading Mako-1.3.5-py3-none-any.whl.metadata (2.9 kB)\n",
            "Requirement already satisfied: typing-extensions>=4 in /usr/local/lib/python3.10/dist-packages (from alembic>=1.5.0->optuna) (4.12.2)\n",
            "Requirement already satisfied: greenlet!=0.4.17 in /usr/local/lib/python3.10/dist-packages (from sqlalchemy>=1.3.0->optuna) (3.0.3)\n",
            "Requirement already satisfied: MarkupSafe>=0.9.2 in /usr/local/lib/python3.10/dist-packages (from Mako->alembic>=1.5.0->optuna) (2.1.5)\n",
            "Downloading optuna-3.6.1-py3-none-any.whl (380 kB)\n",
            "\u001b[2K   \u001b[90m━━━━━━━━━━━━━━━━━━━━━━━━━━━━━━━━━━━━━━━━\u001b[0m \u001b[32m380.1/380.1 kB\u001b[0m \u001b[31m12.4 MB/s\u001b[0m eta \u001b[36m0:00:00\u001b[0m\n",
            "\u001b[?25hDownloading alembic-1.13.2-py3-none-any.whl (232 kB)\n",
            "\u001b[2K   \u001b[90m━━━━━━━━━━━━━━━━━━━━━━━━━━━━━━━━━━━━━━━━\u001b[0m \u001b[32m233.0/233.0 kB\u001b[0m \u001b[31m12.7 MB/s\u001b[0m eta \u001b[36m0:00:00\u001b[0m\n",
            "\u001b[?25hDownloading colorlog-6.8.2-py3-none-any.whl (11 kB)\n",
            "Downloading Mako-1.3.5-py3-none-any.whl (78 kB)\n",
            "\u001b[2K   \u001b[90m━━━━━━━━━━━━━━━━━━━━━━━━━━━━━━━━━━━━━━━━\u001b[0m \u001b[32m78.6/78.6 kB\u001b[0m \u001b[31m4.7 MB/s\u001b[0m eta \u001b[36m0:00:00\u001b[0m\n",
            "\u001b[?25hInstalling collected packages: Mako, colorlog, alembic, optuna\n",
            "Successfully installed Mako-1.3.5 alembic-1.13.2 colorlog-6.8.2 optuna-3.6.1\n"
          ]
        }
      ]
    },
    {
      "cell_type": "code",
      "source": [
        "import optuna\n",
        "import xgboost as xgb\n",
        "from sklearn.metrics import accuracy_score\n",
        "\n",
        "\n",
        "def objective(trial):\n",
        "    params = {\n",
        "        'objective': 'binary:logistic',\n",
        "        'learning_rate': trial.suggest_float('learning_rate', 0.01, 0.2),\n",
        "        'max_depth': trial.suggest_int('max_depth', 3, 10),\n",
        "        'n_estimators': trial.suggest_int('n_estimators', 50, 200),\n",
        "        'colsample_bytree': trial.suggest_float('colsample_bytree', 0.5, 1.0),\n",
        "        'subsample': trial.suggest_float('subsample', 0.5, 1.0)\n",
        "    }\n",
        "\n",
        "    xgb_model = xgb.XGBClassifier(**params)\n",
        "    xgb_model.fit(\n",
        "        X_train, y_train,\n",
        "        eval_set=[(X_test, y_test)],\n",
        "        verbose=False\n",
        "    )\n",
        "    y_pred = xgb_model.predict(X_test)\n",
        "    return 1 - accuracy_score(y_test, y_pred)\n",
        "\n",
        "study = optuna.create_study(direction='minimize')\n",
        "study.optimize(objective, n_trials=50)\n",
        "print(\"Best hyperparameters: \", study.best_params)\n"
      ],
      "metadata": {
        "id": "hl8VMZEnUDhb",
        "colab": {
          "base_uri": "https://localhost:8080/"
        },
        "outputId": "07ad1d85-524d-40bb-8c14-6df0e381cdda"
      },
      "execution_count": 50,
      "outputs": [
        {
          "output_type": "stream",
          "name": "stderr",
          "text": [
            "[I 2024-08-11 18:35:53,327] A new study created in memory with name: no-name-f17d0827-c5a2-4f9d-b7b0-80c3cf083b63\n",
            "[I 2024-08-11 18:36:18,097] Trial 0 finished with value: 0.34630000000000005 and parameters: {'learning_rate': 0.16512517186721976, 'max_depth': 7, 'n_estimators': 162, 'colsample_bytree': 0.8499869648921488, 'subsample': 0.5239980696594193}. Best is trial 0 with value: 0.34630000000000005.\n",
            "[I 2024-08-11 18:36:28,562] Trial 1 finished with value: 0.3479 and parameters: {'learning_rate': 0.14406930683701238, 'max_depth': 6, 'n_estimators': 82, 'colsample_bytree': 0.5218436584160503, 'subsample': 0.5998315462148416}. Best is trial 0 with value: 0.34630000000000005.\n",
            "[I 2024-08-11 18:36:44,104] Trial 2 finished with value: 0.3427 and parameters: {'learning_rate': 0.08657660131804315, 'max_depth': 10, 'n_estimators': 82, 'colsample_bytree': 0.7969381263313032, 'subsample': 0.8222594344810679}. Best is trial 2 with value: 0.3427.\n",
            "[I 2024-08-11 18:36:50,088] Trial 3 finished with value: 0.3478 and parameters: {'learning_rate': 0.08965749833871345, 'max_depth': 8, 'n_estimators': 75, 'colsample_bytree': 0.5147690646086147, 'subsample': 0.5231832574424407}. Best is trial 2 with value: 0.3427.\n",
            "[I 2024-08-11 18:36:56,968] Trial 4 finished with value: 0.3458 and parameters: {'learning_rate': 0.1534830106347556, 'max_depth': 9, 'n_estimators': 179, 'colsample_bytree': 0.6126249835134605, 'subsample': 0.6997354998676253}. Best is trial 2 with value: 0.3427.\n",
            "[I 2024-08-11 18:37:05,001] Trial 5 finished with value: 0.34730000000000005 and parameters: {'learning_rate': 0.055479943515714815, 'max_depth': 8, 'n_estimators': 120, 'colsample_bytree': 0.7020411528965655, 'subsample': 0.6081501248953302}. Best is trial 2 with value: 0.3427.\n",
            "[I 2024-08-11 18:37:07,185] Trial 6 finished with value: 0.3478 and parameters: {'learning_rate': 0.18556218425277568, 'max_depth': 5, 'n_estimators': 92, 'colsample_bytree': 0.9963089687617994, 'subsample': 0.5088522011678862}. Best is trial 2 with value: 0.3427.\n",
            "[I 2024-08-11 18:37:12,196] Trial 7 finished with value: 0.3467 and parameters: {'learning_rate': 0.1846814742238036, 'max_depth': 6, 'n_estimators': 197, 'colsample_bytree': 0.7475922346245717, 'subsample': 0.6948937964324517}. Best is trial 2 with value: 0.3427.\n",
            "[I 2024-08-11 18:37:20,965] Trial 8 finished with value: 0.3457 and parameters: {'learning_rate': 0.15648349879688175, 'max_depth': 7, 'n_estimators': 196, 'colsample_bytree': 0.6437665526037494, 'subsample': 0.8664405658150227}. Best is trial 2 with value: 0.3427.\n",
            "[I 2024-08-11 18:37:22,736] Trial 9 finished with value: 0.35919999999999996 and parameters: {'learning_rate': 0.015522667979529146, 'max_depth': 3, 'n_estimators': 94, 'colsample_bytree': 0.6564115129170356, 'subsample': 0.7189563894137745}. Best is trial 2 with value: 0.3427.\n",
            "[I 2024-08-11 18:37:26,228] Trial 10 finished with value: 0.34450000000000003 and parameters: {'learning_rate': 0.10459170022595102, 'max_depth': 10, 'n_estimators': 55, 'colsample_bytree': 0.8544771215289243, 'subsample': 0.9379103939539163}. Best is trial 2 with value: 0.3427.\n",
            "[I 2024-08-11 18:37:32,114] Trial 11 finished with value: 0.3449 and parameters: {'learning_rate': 0.09819094658454923, 'max_depth': 10, 'n_estimators': 50, 'colsample_bytree': 0.8553126501958673, 'subsample': 0.9388883303391574}. Best is trial 2 with value: 0.3427.\n",
            "[I 2024-08-11 18:37:35,957] Trial 12 finished with value: 0.34709999999999996 and parameters: {'learning_rate': 0.07134676921866803, 'max_depth': 10, 'n_estimators': 53, 'colsample_bytree': 0.8281123392085874, 'subsample': 0.8395373815061578}. Best is trial 2 with value: 0.3427.\n",
            "[I 2024-08-11 18:38:06,634] Trial 13 finished with value: 0.3408 and parameters: {'learning_rate': 0.1220452506788444, 'max_depth': 10, 'n_estimators': 123, 'colsample_bytree': 0.9453230261036991, 'subsample': 0.9886605867567974}. Best is trial 13 with value: 0.3408.\n",
            "[I 2024-08-11 18:38:25,159] Trial 14 finished with value: 0.3448 and parameters: {'learning_rate': 0.12580789654808144, 'max_depth': 9, 'n_estimators': 132, 'colsample_bytree': 0.9986534086934193, 'subsample': 0.8164297952735576}. Best is trial 13 with value: 0.3408.\n",
            "[I 2024-08-11 18:38:34,851] Trial 15 finished with value: 0.346 and parameters: {'learning_rate': 0.0475579778498389, 'max_depth': 9, 'n_estimators': 120, 'colsample_bytree': 0.9216280599949294, 'subsample': 0.9794293307945624}. Best is trial 13 with value: 0.3408.\n",
            "[I 2024-08-11 18:38:37,840] Trial 16 finished with value: 0.3476 and parameters: {'learning_rate': 0.1259491764184161, 'max_depth': 4, 'n_estimators': 151, 'colsample_bytree': 0.9282654504046899, 'subsample': 0.7787421873406096}. Best is trial 13 with value: 0.3408.\n",
            "[I 2024-08-11 18:38:41,759] Trial 17 finished with value: 0.3419 and parameters: {'learning_rate': 0.12249575628982351, 'max_depth': 8, 'n_estimators': 110, 'colsample_bytree': 0.7980822228167828, 'subsample': 0.8976438933838686}. Best is trial 13 with value: 0.3408.\n",
            "[I 2024-08-11 18:38:49,084] Trial 18 finished with value: 0.3426 and parameters: {'learning_rate': 0.13723517144977562, 'max_depth': 8, 'n_estimators': 107, 'colsample_bytree': 0.9256287003602279, 'subsample': 0.9034284222024695}. Best is trial 13 with value: 0.3408.\n",
            "[I 2024-08-11 18:38:54,567] Trial 19 finished with value: 0.34199999999999997 and parameters: {'learning_rate': 0.11719243875769443, 'max_depth': 9, 'n_estimators': 139, 'colsample_bytree': 0.7759853932316899, 'subsample': 0.9978524605143182}. Best is trial 13 with value: 0.3408.\n",
            "[I 2024-08-11 18:38:59,744] Trial 20 finished with value: 0.3437 and parameters: {'learning_rate': 0.19762351090481034, 'max_depth': 8, 'n_estimators': 107, 'colsample_bytree': 0.7299401275905455, 'subsample': 0.8941775934352018}. Best is trial 13 with value: 0.3408.\n",
            "[I 2024-08-11 18:39:17,842] Trial 21 finished with value: 0.34009999999999996 and parameters: {'learning_rate': 0.11999336495144533, 'max_depth': 9, 'n_estimators': 141, 'colsample_bytree': 0.8103548653288024, 'subsample': 0.9963124104673696}. Best is trial 21 with value: 0.34009999999999996.\n",
            "[I 2024-08-11 18:39:52,215] Trial 22 finished with value: 0.3418 and parameters: {'learning_rate': 0.11374968943286914, 'max_depth': 9, 'n_estimators': 149, 'colsample_bytree': 0.8805590254501793, 'subsample': 0.9538316409928591}. Best is trial 21 with value: 0.34009999999999996.\n",
            "[I 2024-08-11 18:40:43,828] Trial 23 finished with value: 0.34209999999999996 and parameters: {'learning_rate': 0.11151916991608374, 'max_depth': 9, 'n_estimators': 153, 'colsample_bytree': 0.9004482030883086, 'subsample': 0.9556319610824116}. Best is trial 21 with value: 0.34009999999999996.\n",
            "[I 2024-08-11 18:41:07,081] Trial 24 finished with value: 0.3406 and parameters: {'learning_rate': 0.08203139726676767, 'max_depth': 10, 'n_estimators': 169, 'colsample_bytree': 0.9604733498173144, 'subsample': 0.9981068606999789}. Best is trial 21 with value: 0.34009999999999996.\n",
            "[I 2024-08-11 18:41:39,363] Trial 25 finished with value: 0.3397 and parameters: {'learning_rate': 0.07039104368686856, 'max_depth': 10, 'n_estimators': 172, 'colsample_bytree': 0.9780263298172454, 'subsample': 0.9893854595018395}. Best is trial 25 with value: 0.3397.\n",
            "[I 2024-08-11 18:41:53,764] Trial 26 finished with value: 0.3406 and parameters: {'learning_rate': 0.06885487785618648, 'max_depth': 10, 'n_estimators': 173, 'colsample_bytree': 0.9557823587392709, 'subsample': 0.9174181259526297}. Best is trial 25 with value: 0.3397.\n",
            "[I 2024-08-11 18:42:03,640] Trial 27 finished with value: 0.3478 and parameters: {'learning_rate': 0.033456640191547815, 'max_depth': 7, 'n_estimators': 173, 'colsample_bytree': 0.8870320743132092, 'subsample': 0.99749782606773}. Best is trial 25 with value: 0.3397.\n",
            "[I 2024-08-11 18:42:16,344] Trial 28 finished with value: 0.34040000000000004 and parameters: {'learning_rate': 0.07676642315460075, 'max_depth': 10, 'n_estimators': 186, 'colsample_bytree': 0.9876736955539314, 'subsample': 0.8643296947250527}. Best is trial 25 with value: 0.3397.\n",
            "[I 2024-08-11 18:42:24,865] Trial 29 finished with value: 0.34209999999999996 and parameters: {'learning_rate': 0.05592129836598862, 'max_depth': 9, 'n_estimators': 186, 'colsample_bytree': 0.9758385377693959, 'subsample': 0.7775887905147366}. Best is trial 25 with value: 0.3397.\n",
            "[I 2024-08-11 18:42:35,966] Trial 30 finished with value: 0.3425 and parameters: {'learning_rate': 0.07148680385069872, 'max_depth': 10, 'n_estimators': 161, 'colsample_bytree': 0.5722335175351098, 'subsample': 0.8613883147766654}. Best is trial 25 with value: 0.3397.\n",
            "[I 2024-08-11 18:42:49,740] Trial 31 finished with value: 0.34199999999999997 and parameters: {'learning_rate': 0.08986249365494761, 'max_depth': 10, 'n_estimators': 163, 'colsample_bytree': 0.9649142464919069, 'subsample': 0.9610975056454287}. Best is trial 25 with value: 0.3397.\n",
            "[I 2024-08-11 18:43:02,694] Trial 32 finished with value: 0.3415 and parameters: {'learning_rate': 0.08372774512709466, 'max_depth': 10, 'n_estimators': 187, 'colsample_bytree': 0.9802449416825636, 'subsample': 0.9242083914262988}. Best is trial 25 with value: 0.3397.\n",
            "[I 2024-08-11 18:43:12,966] Trial 33 finished with value: 0.3437 and parameters: {'learning_rate': 0.047469220906419175, 'max_depth': 9, 'n_estimators': 164, 'colsample_bytree': 0.9057646221213965, 'subsample': 0.9790597099571211}. Best is trial 25 with value: 0.3397.\n",
            "[I 2024-08-11 18:43:21,775] Trial 34 finished with value: 0.34109999999999996 and parameters: {'learning_rate': 0.07955717270486429, 'max_depth': 10, 'n_estimators': 144, 'colsample_bytree': 0.961780851145934, 'subsample': 0.8730327481549507}. Best is trial 25 with value: 0.3397.\n",
            "[I 2024-08-11 18:43:31,584] Trial 35 finished with value: 0.34640000000000004 and parameters: {'learning_rate': 0.09489429146938247, 'max_depth': 8, 'n_estimators': 186, 'colsample_bytree': 0.8274312543828044, 'subsample': 0.5711321773397302}. Best is trial 25 with value: 0.3397.\n",
            "[I 2024-08-11 18:43:41,115] Trial 36 finished with value: 0.33919999999999995 and parameters: {'learning_rate': 0.061437949965579906, 'max_depth': 9, 'n_estimators': 174, 'colsample_bytree': 0.9457784727792642, 'subsample': 0.9659836488339965}. Best is trial 36 with value: 0.33919999999999995.\n",
            "[I 2024-08-11 18:43:48,597] Trial 37 finished with value: 0.3487 and parameters: {'learning_rate': 0.02896482332379039, 'max_depth': 7, 'n_estimators': 180, 'colsample_bytree': 0.7002936908066634, 'subsample': 0.9612718786589437}. Best is trial 36 with value: 0.33919999999999995.\n",
            "[I 2024-08-11 18:43:58,439] Trial 38 finished with value: 0.3437 and parameters: {'learning_rate': 0.06147061711859953, 'max_depth': 9, 'n_estimators': 134, 'colsample_bytree': 0.8677047093709529, 'subsample': 0.820325721618882}. Best is trial 36 with value: 0.33919999999999995.\n",
            "[I 2024-08-11 18:44:05,086] Trial 39 finished with value: 0.3417 and parameters: {'learning_rate': 0.1392856036267709, 'max_depth': 8, 'n_estimators': 200, 'colsample_bytree': 0.8271549614436857, 'subsample': 0.9247528138691729}. Best is trial 36 with value: 0.33919999999999995.\n",
            "[I 2024-08-11 18:44:12,551] Trial 40 finished with value: 0.3487 and parameters: {'learning_rate': 0.03424437629837946, 'max_depth': 5, 'n_estimators': 159, 'colsample_bytree': 0.9334887196441359, 'subsample': 0.6715896082414361}. Best is trial 36 with value: 0.33919999999999995.\n",
            "[I 2024-08-11 18:44:19,980] Trial 41 finished with value: 0.34099999999999997 and parameters: {'learning_rate': 0.077730627911257, 'max_depth': 9, 'n_estimators': 171, 'colsample_bytree': 0.9986534268623598, 'subsample': 0.9672648925114592}. Best is trial 36 with value: 0.33919999999999995.\n",
            "[I 2024-08-11 18:44:33,390] Trial 42 finished with value: 0.3408 and parameters: {'learning_rate': 0.10194037522702226, 'max_depth': 10, 'n_estimators': 191, 'colsample_bytree': 0.9043409142727808, 'subsample': 0.9420383648164671}. Best is trial 36 with value: 0.33919999999999995.\n",
            "[I 2024-08-11 18:44:46,921] Trial 43 finished with value: 0.3419 and parameters: {'learning_rate': 0.04921897631294057, 'max_depth': 10, 'n_estimators': 176, 'colsample_bytree': 0.9529208340637898, 'subsample': 0.999453699743181}. Best is trial 36 with value: 0.33919999999999995.\n",
            "[I 2024-08-11 18:44:59,569] Trial 44 finished with value: 0.3378 and parameters: {'learning_rate': 0.06334700484398947, 'max_depth': 10, 'n_estimators': 167, 'colsample_bytree': 0.9859972749618712, 'subsample': 0.8867431006096562}. Best is trial 44 with value: 0.3378.\n",
            "[I 2024-08-11 18:45:11,235] Trial 45 finished with value: 0.34140000000000004 and parameters: {'learning_rate': 0.06111245767762606, 'max_depth': 9, 'n_estimators': 180, 'colsample_bytree': 0.9852442607851966, 'subsample': 0.8781033052898995}. Best is trial 44 with value: 0.3378.\n",
            "[I 2024-08-11 18:45:15,576] Trial 46 finished with value: 0.34609999999999996 and parameters: {'learning_rate': 0.06414117541581338, 'max_depth': 6, 'n_estimators': 156, 'colsample_bytree': 0.9432925108608559, 'subsample': 0.7958273679389278}. Best is trial 44 with value: 0.3378.\n",
            "[I 2024-08-11 18:45:27,674] Trial 47 finished with value: 0.34130000000000005 and parameters: {'learning_rate': 0.0915731656567483, 'max_depth': 10, 'n_estimators': 167, 'colsample_bytree': 0.9765831738377325, 'subsample': 0.7392319159725836}. Best is trial 44 with value: 0.3378.\n",
            "[I 2024-08-11 18:45:39,251] Trial 48 finished with value: 0.34640000000000004 and parameters: {'learning_rate': 0.041422754999585656, 'max_depth': 9, 'n_estimators': 192, 'colsample_bytree': 0.5512769285132586, 'subsample': 0.8472889296781299}. Best is trial 44 with value: 0.3378.\n",
            "[I 2024-08-11 18:45:46,095] Trial 49 finished with value: 0.34319999999999995 and parameters: {'learning_rate': 0.152009541346727, 'max_depth': 10, 'n_estimators': 147, 'colsample_bytree': 0.7896028842632425, 'subsample': 0.9147637830261174}. Best is trial 44 with value: 0.3378.\n"
          ]
        },
        {
          "output_type": "stream",
          "name": "stdout",
          "text": [
            "Best hyperparameters:  {'learning_rate': 0.06334700484398947, 'max_depth': 10, 'n_estimators': 167, 'colsample_bytree': 0.9859972749618712, 'subsample': 0.8867431006096562}\n"
          ]
        }
      ]
    },
    {
      "cell_type": "markdown",
      "source": [
        "###building model with best parameters"
      ],
      "metadata": {
        "id": "D6ViawTxhjHN"
      }
    },
    {
      "cell_type": "code",
      "source": [
        "model = xgb.XGBClassifier(**study.best_params)\n",
        "\n",
        "model.fit(X_train, y_train)\n",
        "\n",
        "from sklearn.metrics import confusion_matrix, accuracy_score\n",
        "y_pred = model.predict(X_test)\n",
        "cm = confusion_matrix(y_test, y_pred)\n",
        "print(cm)\n",
        "accuracy_score(y_test, y_pred)"
      ],
      "metadata": {
        "id": "ntDwhvpeVTCd",
        "colab": {
          "base_uri": "https://localhost:8080/"
        },
        "outputId": "61fa6568-a29b-4837-e2f2-0fe794daff03"
      },
      "execution_count": 51,
      "outputs": [
        {
          "output_type": "stream",
          "name": "stdout",
          "text": [
            "[[ 523   20   32   17  393]\n",
            " [ 149   40   18   16  345]\n",
            " [ 126   11   51   22  595]\n",
            " [  70   11   25   77 1314]\n",
            " [ 138   15   24   37 5931]]\n"
          ]
        },
        {
          "output_type": "execute_result",
          "data": {
            "text/plain": [
              "0.6622"
            ]
          },
          "metadata": {},
          "execution_count": 51
        }
      ]
    },
    {
      "cell_type": "markdown",
      "source": [
        "###test for overfitting"
      ],
      "metadata": {
        "id": "DRdewablCgTk"
      }
    },
    {
      "cell_type": "code",
      "source": [
        "y_train_pred = model.predict(X_train)\n",
        "cm = confusion_matrix(y_train, y_train_pred)\n",
        "print(cm)\n",
        "accuracy_score(y_train, y_train_pred)"
      ],
      "metadata": {
        "id": "tYpbY7Zf-jjA",
        "colab": {
          "base_uri": "https://localhost:8080/"
        },
        "outputId": "702af0d7-05d6-4c92-9ab9-8247f8f490ac"
      },
      "execution_count": 52,
      "outputs": [
        {
          "output_type": "stream",
          "name": "stdout",
          "text": [
            "[[ 2967     2    11     8   748]\n",
            " [  211  1017    12    21   983]\n",
            " [  191    14  1161    26  1850]\n",
            " [   74     6    10  1527  4174]\n",
            " [  107     6     8    10 24854]]\n"
          ]
        },
        {
          "output_type": "execute_result",
          "data": {
            "text/plain": [
              "0.7881894094704736"
            ]
          },
          "metadata": {},
          "execution_count": 52
        }
      ]
    },
    {
      "cell_type": "markdown",
      "metadata": {
        "id": "0swRpGrWMzeS"
      },
      "source": [
        "##Training a random forest model"
      ]
    },
    {
      "cell_type": "code",
      "execution_count": 53,
      "metadata": {
        "colab": {
          "base_uri": "https://localhost:8080/",
          "height": 74
        },
        "id": "LH2n9oFOM2pS",
        "outputId": "76e609c8-9193-41c4-9c5c-6fc042896e47"
      },
      "outputs": [
        {
          "output_type": "execute_result",
          "data": {
            "text/plain": [
              "RandomForestClassifier()"
            ],
            "text/html": [
              "<style>#sk-container-id-6 {color: black;}#sk-container-id-6 pre{padding: 0;}#sk-container-id-6 div.sk-toggleable {background-color: white;}#sk-container-id-6 label.sk-toggleable__label {cursor: pointer;display: block;width: 100%;margin-bottom: 0;padding: 0.3em;box-sizing: border-box;text-align: center;}#sk-container-id-6 label.sk-toggleable__label-arrow:before {content: \"▸\";float: left;margin-right: 0.25em;color: #696969;}#sk-container-id-6 label.sk-toggleable__label-arrow:hover:before {color: black;}#sk-container-id-6 div.sk-estimator:hover label.sk-toggleable__label-arrow:before {color: black;}#sk-container-id-6 div.sk-toggleable__content {max-height: 0;max-width: 0;overflow: hidden;text-align: left;background-color: #f0f8ff;}#sk-container-id-6 div.sk-toggleable__content pre {margin: 0.2em;color: black;border-radius: 0.25em;background-color: #f0f8ff;}#sk-container-id-6 input.sk-toggleable__control:checked~div.sk-toggleable__content {max-height: 200px;max-width: 100%;overflow: auto;}#sk-container-id-6 input.sk-toggleable__control:checked~label.sk-toggleable__label-arrow:before {content: \"▾\";}#sk-container-id-6 div.sk-estimator input.sk-toggleable__control:checked~label.sk-toggleable__label {background-color: #d4ebff;}#sk-container-id-6 div.sk-label input.sk-toggleable__control:checked~label.sk-toggleable__label {background-color: #d4ebff;}#sk-container-id-6 input.sk-hidden--visually {border: 0;clip: rect(1px 1px 1px 1px);clip: rect(1px, 1px, 1px, 1px);height: 1px;margin: -1px;overflow: hidden;padding: 0;position: absolute;width: 1px;}#sk-container-id-6 div.sk-estimator {font-family: monospace;background-color: #f0f8ff;border: 1px dotted black;border-radius: 0.25em;box-sizing: border-box;margin-bottom: 0.5em;}#sk-container-id-6 div.sk-estimator:hover {background-color: #d4ebff;}#sk-container-id-6 div.sk-parallel-item::after {content: \"\";width: 100%;border-bottom: 1px solid gray;flex-grow: 1;}#sk-container-id-6 div.sk-label:hover label.sk-toggleable__label {background-color: #d4ebff;}#sk-container-id-6 div.sk-serial::before {content: \"\";position: absolute;border-left: 1px solid gray;box-sizing: border-box;top: 0;bottom: 0;left: 50%;z-index: 0;}#sk-container-id-6 div.sk-serial {display: flex;flex-direction: column;align-items: center;background-color: white;padding-right: 0.2em;padding-left: 0.2em;position: relative;}#sk-container-id-6 div.sk-item {position: relative;z-index: 1;}#sk-container-id-6 div.sk-parallel {display: flex;align-items: stretch;justify-content: center;background-color: white;position: relative;}#sk-container-id-6 div.sk-item::before, #sk-container-id-6 div.sk-parallel-item::before {content: \"\";position: absolute;border-left: 1px solid gray;box-sizing: border-box;top: 0;bottom: 0;left: 50%;z-index: -1;}#sk-container-id-6 div.sk-parallel-item {display: flex;flex-direction: column;z-index: 1;position: relative;background-color: white;}#sk-container-id-6 div.sk-parallel-item:first-child::after {align-self: flex-end;width: 50%;}#sk-container-id-6 div.sk-parallel-item:last-child::after {align-self: flex-start;width: 50%;}#sk-container-id-6 div.sk-parallel-item:only-child::after {width: 0;}#sk-container-id-6 div.sk-dashed-wrapped {border: 1px dashed gray;margin: 0 0.4em 0.5em 0.4em;box-sizing: border-box;padding-bottom: 0.4em;background-color: white;}#sk-container-id-6 div.sk-label label {font-family: monospace;font-weight: bold;display: inline-block;line-height: 1.2em;}#sk-container-id-6 div.sk-label-container {text-align: center;}#sk-container-id-6 div.sk-container {/* jupyter's `normalize.less` sets `[hidden] { display: none; }` but bootstrap.min.css set `[hidden] { display: none !important; }` so we also need the `!important` here to be able to override the default hidden behavior on the sphinx rendered scikit-learn.org. See: https://github.com/scikit-learn/scikit-learn/issues/21755 */display: inline-block !important;position: relative;}#sk-container-id-6 div.sk-text-repr-fallback {display: none;}</style><div id=\"sk-container-id-6\" class=\"sk-top-container\"><div class=\"sk-text-repr-fallback\"><pre>RandomForestClassifier()</pre><b>In a Jupyter environment, please rerun this cell to show the HTML representation or trust the notebook. <br />On GitHub, the HTML representation is unable to render, please try loading this page with nbviewer.org.</b></div><div class=\"sk-container\" hidden><div class=\"sk-item\"><div class=\"sk-estimator sk-toggleable\"><input class=\"sk-toggleable__control sk-hidden--visually\" id=\"sk-estimator-id-6\" type=\"checkbox\" checked><label for=\"sk-estimator-id-6\" class=\"sk-toggleable__label sk-toggleable__label-arrow\">RandomForestClassifier</label><div class=\"sk-toggleable__content\"><pre>RandomForestClassifier()</pre></div></div></div></div></div>"
            ]
          },
          "metadata": {},
          "execution_count": 53
        }
      ],
      "source": [
        "from sklearn.ensemble import RandomForestClassifier\n",
        "classifier = RandomForestClassifier()\n",
        "classifier.fit(X_train, y_train)"
      ]
    },
    {
      "cell_type": "code",
      "execution_count": 54,
      "metadata": {
        "colab": {
          "base_uri": "https://localhost:8080/"
        },
        "id": "DCjia_2GM_pp",
        "outputId": "36ed3df1-3d62-4e65-8be3-abd56baca604"
      },
      "outputs": [
        {
          "output_type": "stream",
          "name": "stdout",
          "text": [
            "[[ 514   43   45   48  335]\n",
            " [ 145   74   28   31  290]\n",
            " [ 116   27  128   44  490]\n",
            " [  87   20   48  283 1059]\n",
            " [ 149   56  120  328 5492]]\n"
          ]
        },
        {
          "output_type": "execute_result",
          "data": {
            "text/plain": [
              "0.6491"
            ]
          },
          "metadata": {},
          "execution_count": 54
        }
      ],
      "source": [
        "from sklearn.metrics import confusion_matrix, accuracy_score\n",
        "y_pred = classifier.predict(X_test)\n",
        "cm = confusion_matrix(y_test, y_pred)\n",
        "print(cm)\n",
        "accuracy_score(y_test, y_pred)"
      ]
    },
    {
      "cell_type": "markdown",
      "metadata": {
        "id": "SKlRtowgNh1m"
      },
      "source": [
        "##Training a svm model"
      ]
    },
    {
      "cell_type": "code",
      "execution_count": 55,
      "metadata": {
        "id": "tJiCezsmNkf8",
        "colab": {
          "base_uri": "https://localhost:8080/",
          "height": 74
        },
        "outputId": "46e70d13-3087-4297-c94f-c5cf29cb498a"
      },
      "outputs": [
        {
          "output_type": "execute_result",
          "data": {
            "text/plain": [
              "SVC(kernel='linear', random_state=110)"
            ],
            "text/html": [
              "<style>#sk-container-id-7 {color: black;}#sk-container-id-7 pre{padding: 0;}#sk-container-id-7 div.sk-toggleable {background-color: white;}#sk-container-id-7 label.sk-toggleable__label {cursor: pointer;display: block;width: 100%;margin-bottom: 0;padding: 0.3em;box-sizing: border-box;text-align: center;}#sk-container-id-7 label.sk-toggleable__label-arrow:before {content: \"▸\";float: left;margin-right: 0.25em;color: #696969;}#sk-container-id-7 label.sk-toggleable__label-arrow:hover:before {color: black;}#sk-container-id-7 div.sk-estimator:hover label.sk-toggleable__label-arrow:before {color: black;}#sk-container-id-7 div.sk-toggleable__content {max-height: 0;max-width: 0;overflow: hidden;text-align: left;background-color: #f0f8ff;}#sk-container-id-7 div.sk-toggleable__content pre {margin: 0.2em;color: black;border-radius: 0.25em;background-color: #f0f8ff;}#sk-container-id-7 input.sk-toggleable__control:checked~div.sk-toggleable__content {max-height: 200px;max-width: 100%;overflow: auto;}#sk-container-id-7 input.sk-toggleable__control:checked~label.sk-toggleable__label-arrow:before {content: \"▾\";}#sk-container-id-7 div.sk-estimator input.sk-toggleable__control:checked~label.sk-toggleable__label {background-color: #d4ebff;}#sk-container-id-7 div.sk-label input.sk-toggleable__control:checked~label.sk-toggleable__label {background-color: #d4ebff;}#sk-container-id-7 input.sk-hidden--visually {border: 0;clip: rect(1px 1px 1px 1px);clip: rect(1px, 1px, 1px, 1px);height: 1px;margin: -1px;overflow: hidden;padding: 0;position: absolute;width: 1px;}#sk-container-id-7 div.sk-estimator {font-family: monospace;background-color: #f0f8ff;border: 1px dotted black;border-radius: 0.25em;box-sizing: border-box;margin-bottom: 0.5em;}#sk-container-id-7 div.sk-estimator:hover {background-color: #d4ebff;}#sk-container-id-7 div.sk-parallel-item::after {content: \"\";width: 100%;border-bottom: 1px solid gray;flex-grow: 1;}#sk-container-id-7 div.sk-label:hover label.sk-toggleable__label {background-color: #d4ebff;}#sk-container-id-7 div.sk-serial::before {content: \"\";position: absolute;border-left: 1px solid gray;box-sizing: border-box;top: 0;bottom: 0;left: 50%;z-index: 0;}#sk-container-id-7 div.sk-serial {display: flex;flex-direction: column;align-items: center;background-color: white;padding-right: 0.2em;padding-left: 0.2em;position: relative;}#sk-container-id-7 div.sk-item {position: relative;z-index: 1;}#sk-container-id-7 div.sk-parallel {display: flex;align-items: stretch;justify-content: center;background-color: white;position: relative;}#sk-container-id-7 div.sk-item::before, #sk-container-id-7 div.sk-parallel-item::before {content: \"\";position: absolute;border-left: 1px solid gray;box-sizing: border-box;top: 0;bottom: 0;left: 50%;z-index: -1;}#sk-container-id-7 div.sk-parallel-item {display: flex;flex-direction: column;z-index: 1;position: relative;background-color: white;}#sk-container-id-7 div.sk-parallel-item:first-child::after {align-self: flex-end;width: 50%;}#sk-container-id-7 div.sk-parallel-item:last-child::after {align-self: flex-start;width: 50%;}#sk-container-id-7 div.sk-parallel-item:only-child::after {width: 0;}#sk-container-id-7 div.sk-dashed-wrapped {border: 1px dashed gray;margin: 0 0.4em 0.5em 0.4em;box-sizing: border-box;padding-bottom: 0.4em;background-color: white;}#sk-container-id-7 div.sk-label label {font-family: monospace;font-weight: bold;display: inline-block;line-height: 1.2em;}#sk-container-id-7 div.sk-label-container {text-align: center;}#sk-container-id-7 div.sk-container {/* jupyter's `normalize.less` sets `[hidden] { display: none; }` but bootstrap.min.css set `[hidden] { display: none !important; }` so we also need the `!important` here to be able to override the default hidden behavior on the sphinx rendered scikit-learn.org. See: https://github.com/scikit-learn/scikit-learn/issues/21755 */display: inline-block !important;position: relative;}#sk-container-id-7 div.sk-text-repr-fallback {display: none;}</style><div id=\"sk-container-id-7\" class=\"sk-top-container\"><div class=\"sk-text-repr-fallback\"><pre>SVC(kernel=&#x27;linear&#x27;, random_state=110)</pre><b>In a Jupyter environment, please rerun this cell to show the HTML representation or trust the notebook. <br />On GitHub, the HTML representation is unable to render, please try loading this page with nbviewer.org.</b></div><div class=\"sk-container\" hidden><div class=\"sk-item\"><div class=\"sk-estimator sk-toggleable\"><input class=\"sk-toggleable__control sk-hidden--visually\" id=\"sk-estimator-id-7\" type=\"checkbox\" checked><label for=\"sk-estimator-id-7\" class=\"sk-toggleable__label sk-toggleable__label-arrow\">SVC</label><div class=\"sk-toggleable__content\"><pre>SVC(kernel=&#x27;linear&#x27;, random_state=110)</pre></div></div></div></div></div>"
            ]
          },
          "metadata": {},
          "execution_count": 55
        }
      ],
      "source": [
        "from sklearn.svm import SVC\n",
        "classifier = SVC(kernel = 'linear', random_state = 110)\n",
        "classifier.fit(X_train, y_train)"
      ]
    },
    {
      "cell_type": "code",
      "source": [
        "y_pred = classifier.predict(X_test)\n",
        "\n",
        "cm = confusion_matrix(y_test, y_pred)\n",
        "print(\"Confusion Matrix:\")\n",
        "print(cm)\n",
        "print(\"Accuracy Score:\")\n",
        "print(accuracy_score(y_test, y_pred))"
      ],
      "metadata": {
        "id": "r31jj3IHWi-c",
        "colab": {
          "base_uri": "https://localhost:8080/"
        },
        "outputId": "0b8738f0-39e6-4b29-b883-4d659cb209a8"
      },
      "execution_count": 56,
      "outputs": [
        {
          "output_type": "stream",
          "name": "stdout",
          "text": [
            "Confusion Matrix:\n",
            "[[ 517    0    0    0  468]\n",
            " [ 179    0    0    0  389]\n",
            " [ 135    0    0    0  670]\n",
            " [  71    0    0    0 1426]\n",
            " [ 169    0    0    0 5976]]\n",
            "Accuracy Score:\n",
            "0.6493\n"
          ]
        }
      ]
    },
    {
      "cell_type": "markdown",
      "source": [
        "###test for overfitting"
      ],
      "metadata": {
        "id": "KbJ_s6ezTF8E"
      }
    },
    {
      "cell_type": "code",
      "source": [
        "y_train_pred = classifier.predict(X_train)\n",
        "cm = confusion_matrix(y_train, y_train_pred)\n",
        "print(cm)\n",
        "accuracy_score(y_train, y_train_pred)\n"
      ],
      "metadata": {
        "id": "7dMiqfmqSuit",
        "colab": {
          "base_uri": "https://localhost:8080/"
        },
        "outputId": "868049ca-8d0d-4716-e51b-f842eb5164b4"
      },
      "execution_count": 57,
      "outputs": [
        {
          "output_type": "stream",
          "name": "stdout",
          "text": [
            "[[ 2044     0     0     0  1692]\n",
            " [  711     0     0     0  1533]\n",
            " [  594     0     0     0  2648]\n",
            " [  307     0     0     0  5484]\n",
            " [  725     0     0     0 24260]]\n"
          ]
        },
        {
          "output_type": "execute_result",
          "data": {
            "text/plain": [
              "0.6576328816440822"
            ]
          },
          "metadata": {},
          "execution_count": 57
        }
      ]
    },
    {
      "cell_type": "markdown",
      "metadata": {
        "id": "YL1g49RdUttP"
      },
      "source": [
        "###model bagging\n"
      ]
    },
    {
      "cell_type": "code",
      "execution_count": 58,
      "metadata": {
        "id": "4h_U3ofl893V",
        "colab": {
          "base_uri": "https://localhost:8080/"
        },
        "outputId": "ab89a299-3ff3-44b0-9e37-322044588e05"
      },
      "outputs": [
        {
          "output_type": "stream",
          "name": "stdout",
          "text": [
            "Fitting 5 folds for each of 12 candidates, totalling 60 fits\n",
            "Confusion Matrix:\n",
            "[[ 464   16   18   12  475]\n",
            " [ 120   49   14    6  379]\n",
            " [  81   11   89   12  612]\n",
            " [  65    3   12  142 1275]\n",
            " [ 117   13   22   36 5957]]\n",
            "Accuracy Score:\n",
            "0.6701\n"
          ]
        }
      ],
      "source": [
        "from sklearn.ensemble import BaggingClassifier\n",
        "from sklearn.model_selection import GridSearchCV\n",
        "from sklearn.metrics import confusion_matrix, accuracy_score\n",
        "\n",
        "param_grid = {\n",
        "    'n_estimators': [50, 100, 150],\n",
        "    'max_samples': [0.5, 1.0],\n",
        "    'max_features': [0.5, 1.0]\n",
        "}\n",
        "\n",
        "clf = BaggingClassifier(random_state=0)\n",
        "\n",
        "grid_search = GridSearchCV(estimator=clf, param_grid=param_grid, cv=5, n_jobs=-1, scoring='accuracy',verbose =2)\n",
        "grid_search.fit(X_train, y_train)\n",
        "\n",
        "best_clf = grid_search.best_estimator_\n",
        "\n",
        "y_pred = best_clf.predict(X_test)\n",
        "\n",
        "cm = confusion_matrix(y_test, y_pred)\n",
        "print(\"Confusion Matrix:\")\n",
        "print(cm)\n",
        "print(\"Accuracy Score:\")\n",
        "print(accuracy_score(y_test, y_pred))\n"
      ]
    },
    {
      "cell_type": "markdown",
      "metadata": {
        "id": "Y6FemTHtelLO"
      },
      "source": [
        "##Training naive bayes model"
      ]
    },
    {
      "cell_type": "code",
      "execution_count": 59,
      "metadata": {
        "id": "f3vE_0eFeoUh",
        "colab": {
          "base_uri": "https://localhost:8080/",
          "height": 74
        },
        "outputId": "ce06ad35-d254-4a2a-e902-6f3e50f61614"
      },
      "outputs": [
        {
          "output_type": "execute_result",
          "data": {
            "text/plain": [
              "GaussianNB()"
            ],
            "text/html": [
              "<style>#sk-container-id-8 {color: black;}#sk-container-id-8 pre{padding: 0;}#sk-container-id-8 div.sk-toggleable {background-color: white;}#sk-container-id-8 label.sk-toggleable__label {cursor: pointer;display: block;width: 100%;margin-bottom: 0;padding: 0.3em;box-sizing: border-box;text-align: center;}#sk-container-id-8 label.sk-toggleable__label-arrow:before {content: \"▸\";float: left;margin-right: 0.25em;color: #696969;}#sk-container-id-8 label.sk-toggleable__label-arrow:hover:before {color: black;}#sk-container-id-8 div.sk-estimator:hover label.sk-toggleable__label-arrow:before {color: black;}#sk-container-id-8 div.sk-toggleable__content {max-height: 0;max-width: 0;overflow: hidden;text-align: left;background-color: #f0f8ff;}#sk-container-id-8 div.sk-toggleable__content pre {margin: 0.2em;color: black;border-radius: 0.25em;background-color: #f0f8ff;}#sk-container-id-8 input.sk-toggleable__control:checked~div.sk-toggleable__content {max-height: 200px;max-width: 100%;overflow: auto;}#sk-container-id-8 input.sk-toggleable__control:checked~label.sk-toggleable__label-arrow:before {content: \"▾\";}#sk-container-id-8 div.sk-estimator input.sk-toggleable__control:checked~label.sk-toggleable__label {background-color: #d4ebff;}#sk-container-id-8 div.sk-label input.sk-toggleable__control:checked~label.sk-toggleable__label {background-color: #d4ebff;}#sk-container-id-8 input.sk-hidden--visually {border: 0;clip: rect(1px 1px 1px 1px);clip: rect(1px, 1px, 1px, 1px);height: 1px;margin: -1px;overflow: hidden;padding: 0;position: absolute;width: 1px;}#sk-container-id-8 div.sk-estimator {font-family: monospace;background-color: #f0f8ff;border: 1px dotted black;border-radius: 0.25em;box-sizing: border-box;margin-bottom: 0.5em;}#sk-container-id-8 div.sk-estimator:hover {background-color: #d4ebff;}#sk-container-id-8 div.sk-parallel-item::after {content: \"\";width: 100%;border-bottom: 1px solid gray;flex-grow: 1;}#sk-container-id-8 div.sk-label:hover label.sk-toggleable__label {background-color: #d4ebff;}#sk-container-id-8 div.sk-serial::before {content: \"\";position: absolute;border-left: 1px solid gray;box-sizing: border-box;top: 0;bottom: 0;left: 50%;z-index: 0;}#sk-container-id-8 div.sk-serial {display: flex;flex-direction: column;align-items: center;background-color: white;padding-right: 0.2em;padding-left: 0.2em;position: relative;}#sk-container-id-8 div.sk-item {position: relative;z-index: 1;}#sk-container-id-8 div.sk-parallel {display: flex;align-items: stretch;justify-content: center;background-color: white;position: relative;}#sk-container-id-8 div.sk-item::before, #sk-container-id-8 div.sk-parallel-item::before {content: \"\";position: absolute;border-left: 1px solid gray;box-sizing: border-box;top: 0;bottom: 0;left: 50%;z-index: -1;}#sk-container-id-8 div.sk-parallel-item {display: flex;flex-direction: column;z-index: 1;position: relative;background-color: white;}#sk-container-id-8 div.sk-parallel-item:first-child::after {align-self: flex-end;width: 50%;}#sk-container-id-8 div.sk-parallel-item:last-child::after {align-self: flex-start;width: 50%;}#sk-container-id-8 div.sk-parallel-item:only-child::after {width: 0;}#sk-container-id-8 div.sk-dashed-wrapped {border: 1px dashed gray;margin: 0 0.4em 0.5em 0.4em;box-sizing: border-box;padding-bottom: 0.4em;background-color: white;}#sk-container-id-8 div.sk-label label {font-family: monospace;font-weight: bold;display: inline-block;line-height: 1.2em;}#sk-container-id-8 div.sk-label-container {text-align: center;}#sk-container-id-8 div.sk-container {/* jupyter's `normalize.less` sets `[hidden] { display: none; }` but bootstrap.min.css set `[hidden] { display: none !important; }` so we also need the `!important` here to be able to override the default hidden behavior on the sphinx rendered scikit-learn.org. See: https://github.com/scikit-learn/scikit-learn/issues/21755 */display: inline-block !important;position: relative;}#sk-container-id-8 div.sk-text-repr-fallback {display: none;}</style><div id=\"sk-container-id-8\" class=\"sk-top-container\"><div class=\"sk-text-repr-fallback\"><pre>GaussianNB()</pre><b>In a Jupyter environment, please rerun this cell to show the HTML representation or trust the notebook. <br />On GitHub, the HTML representation is unable to render, please try loading this page with nbviewer.org.</b></div><div class=\"sk-container\" hidden><div class=\"sk-item\"><div class=\"sk-estimator sk-toggleable\"><input class=\"sk-toggleable__control sk-hidden--visually\" id=\"sk-estimator-id-8\" type=\"checkbox\" checked><label for=\"sk-estimator-id-8\" class=\"sk-toggleable__label sk-toggleable__label-arrow\">GaussianNB</label><div class=\"sk-toggleable__content\"><pre>GaussianNB()</pre></div></div></div></div></div>"
            ]
          },
          "metadata": {},
          "execution_count": 59
        }
      ],
      "source": [
        "from sklearn.naive_bayes import GaussianNB\n",
        "classifier = GaussianNB()\n",
        "classifier.fit(X_train, y_train)"
      ]
    },
    {
      "cell_type": "code",
      "execution_count": 60,
      "metadata": {
        "id": "DIMZs72tewsT",
        "colab": {
          "base_uri": "https://localhost:8080/"
        },
        "outputId": "34053cc9-2d71-4602-f3fb-aa1900379ca4"
      },
      "outputs": [
        {
          "output_type": "stream",
          "name": "stdout",
          "text": [
            "[[ 484   83   46    0  372]\n",
            " [ 180   57   11    0  320]\n",
            " [ 149   58   12    0  586]\n",
            " [  97   61   18    0 1321]\n",
            " [ 255  136   87    0 5667]]\n"
          ]
        },
        {
          "output_type": "execute_result",
          "data": {
            "text/plain": [
              "0.622"
            ]
          },
          "metadata": {},
          "execution_count": 60
        }
      ],
      "source": [
        "from sklearn.metrics import confusion_matrix, accuracy_score\n",
        "y_pred = classifier.predict(X_test)\n",
        "cm = confusion_matrix(y_test, y_pred)\n",
        "print(cm)\n",
        "accuracy_score(y_test, y_pred)"
      ]
    },
    {
      "cell_type": "markdown",
      "source": [
        "###test for overfitting"
      ],
      "metadata": {
        "id": "qWbFs5zVS-pa"
      }
    },
    {
      "cell_type": "code",
      "source": [
        "y_train_pred = classifier.predict(X_train)\n",
        "cm = confusion_matrix(y_train, y_train_pred)\n",
        "print(cm)\n",
        "accuracy_score(y_train, y_train_pred)\n"
      ],
      "metadata": {
        "id": "wNYVbG8US3KI",
        "colab": {
          "base_uri": "https://localhost:8080/"
        },
        "outputId": "4a1b305b-e80e-4ce4-eff4-8391f6e023b3"
      },
      "execution_count": 61,
      "outputs": [
        {
          "output_type": "stream",
          "name": "stdout",
          "text": [
            "[[ 1905   315   106     0  1410]\n",
            " [  706   211    32     0  1295]\n",
            " [  638   227    52     0  2325]\n",
            " [  388   239    67     0  5097]\n",
            " [ 1086   533   338     0 23028]]\n"
          ]
        },
        {
          "output_type": "execute_result",
          "data": {
            "text/plain": [
              "0.6299314965748287"
            ]
          },
          "metadata": {},
          "execution_count": 61
        }
      ]
    },
    {
      "cell_type": "markdown",
      "source": [
        "#predicting review scores using RoBerta model"
      ],
      "metadata": {
        "id": "5xHGhu9NtNpz"
      }
    },
    {
      "cell_type": "code",
      "source": [
        "from transformers import AutoTokenizer, AutoModelForSequenceClassification\n",
        "\n",
        "tokenizer = AutoTokenizer.from_pretrained('nlptown/bert-base-multilingual-uncased-sentiment')\n",
        "model = AutoModelForSequenceClassification.from_pretrained('nlptown/bert-base-multilingual-uncased-sentiment')"
      ],
      "metadata": {
        "id": "NhFuEs5StM5y"
      },
      "execution_count": 27,
      "outputs": []
    },
    {
      "cell_type": "code",
      "source": [
        "tokens = []\n",
        "y_pred = []\n",
        "for i in df[\"Combined_Text\"]:\n",
        "  token = tokenizer.encode(i, return_tensors='pt', truncation=True)\n",
        "  tokens.append(token)\n",
        "  result = model(token)\n",
        "  logits = result.logits\n",
        "  y_pred.append(int(np.argmax(logits.detach().numpy())) + 1)"
      ],
      "metadata": {
        "id": "yoVe450Gu3e2"
      },
      "execution_count": 29,
      "outputs": []
    },
    {
      "cell_type": "code",
      "source": [
        "from sklearn.metrics import confusion_matrix, accuracy_score\n",
        "cm = confusion_matrix(df[\"Score\"], y_pred)\n",
        "sns.heatmap(cm, annot = True)\n",
        "print(accuracy_score(df[\"Score\"], y_pred))"
      ],
      "metadata": {
        "colab": {
          "base_uri": "https://localhost:8080/",
          "height": 448
        },
        "id": "PmqIByEF4d92",
        "outputId": "7007ce32-eade-4597-9361-4f0457fadbf0"
      },
      "execution_count": 30,
      "outputs": [
        {
          "output_type": "stream",
          "name": "stdout",
          "text": [
            "0.6948\n"
          ]
        },
        {
          "output_type": "display_data",
          "data": {
            "text/plain": [
              "<Figure size 640x480 with 2 Axes>"
            ],
            "image/png": "[encoded data removed]"
          },
          "metadata": {}
        }
      ]
    }
  ]
}